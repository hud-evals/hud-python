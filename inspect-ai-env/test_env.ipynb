{
 "cells": [
  {
   "cell_type": "markdown",
   "metadata": {},
   "source": [
    "Make sure to `pip install hud-python[agents]` before running this notebook\n",
    "\n",
    "### Step 1: Create a Task\n",
    "\n",
    "A Task combines:\n",
    "- **Prompt**: What we want an agent to accomplish\n",
    "- **MCP Config**: How to spawn the environment\n",
    "- **Setup Tool**: How to prepare the environment\n",
    "- **Evaluate Tool**: How to check if the task succeeded"
   ]
  },
  {
   "cell_type": "code",
   "execution_count": null,
   "metadata": {},
   "outputs": [],
   "source": [
    "from hud.datasets import Task\n",
    "from hud.types import MCPToolCall\n",
    "\n",
    "# Create a task that uses our inspect_ai_env environment\n",
    "# See tasks.json for how to build a loadable task dataset\n",
    "task = Task(\n",
    "    prompt=\"Increment the counter to reach 10\",\n",
    "    mcp_config={\n",
    "        \"inspect_ai_env\": {\"url\": \"http://localhost:8765/mcp\"},\n",
    "    },\n",
    "    setup_tool=MCPToolCall(name=\"setup\", arguments={}),\n",
    "    evaluate_tool=MCPToolCall(name=\"evaluate\", arguments={\"target\": 10}),\n",
    ")"
   ]
  },
  {
   "cell_type": "markdown",
   "metadata": {},
   "source": [
    "### Step 2: Initialize MCP Client\n",
    "\n",
    "Run `hud dev --build` before this cell to intialize the server at `http://localhost:8765/mcp`"
   ]
  },
  {
   "cell_type": "code",
   "execution_count": null,
   "metadata": {},
   "outputs": [],
   "source": [
    "from hud.clients import MCPClient\n",
    "\n",
    "# Create the client\n",
    "client = MCPClient(mcp_config=task.mcp_config, auto_trace=False)\n",
    "\n",
    "# Initialize it (this connects to our dev server)\n",
    "await client.initialize()"
   ]
  },
  {
   "cell_type": "markdown",
   "metadata": {},
   "source": [
    "### Step 3: Run Setup\n",
    "\n",
    "Call the setup tool to prepare the environment according to the task."
   ]
  },
  {
   "cell_type": "code",
   "execution_count": null,
   "metadata": {},
   "outputs": [],
   "source": [
    "# Run the setup from our task\n",
    "setup_result = await client.call_tool(task.setup_tool)  # type: ignore\n",
    "print(f\"Setup result: {setup_result}\")"
   ]
  },
  {
   "cell_type": "markdown",
   "metadata": {},
   "source": [
    "### Step 4: Perform Actions\n",
    "\n",
    "Now we'll manually perform actions to complete the task. In a real scenario, an AI agent would figure out what actions to take."
   ]
  },
  {
   "cell_type": "code",
   "execution_count": null,
   "metadata": {},
   "outputs": [],
   "source": [
    "# Increment the counter 10 times\n",
    "for i in range(10):\n",
    "    result = await client.call_tool(name=\"act\", arguments={})\n",
    "    print(f\"Step {i + 1}: {result.content}\")"
   ]
  },
  {
   "cell_type": "markdown",
   "metadata": {},
   "source": [
    "## Step 5: Evaluate Success\n",
    "\n",
    "Check if we completed the task according to the evaluation criteria."
   ]
  },
  {
   "cell_type": "code",
   "execution_count": null,
   "metadata": {},
   "outputs": [],
   "source": [
    "# Run the evaluation from our task\n",
    "eval_result = await client.call_tool(task.evaluate_tool)  # type: ignore\n",
    "\n",
    "# The result is a list with one TextContent item containing JSON\n",
    "print(eval_result)"
   ]
  },
  {
   "cell_type": "markdown",
   "metadata": {},
   "source": [
    "### Step 6: Cleanup\n",
    "\n",
    "Always shut down the client when done to stop the Docker container. Either stop hud dev in the terminal, or run this command:"
   ]
  },
  {
   "cell_type": "code",
   "execution_count": null,
   "metadata": {},
   "outputs": [],
   "source": [
    "await client.shutdown()"
   ]
  },
  {
   "cell_type": "markdown",
   "metadata": {},
   "source": [
    "### Bonus: Running with an AI Agent\n",
    "\n",
    "Instead of manually calling tools, you can have an AI agent solve the task automatically."
   ]
  },
  {
   "cell_type": "code",
   "execution_count": null,
   "metadata": {},
   "outputs": [],
   "source": [
    "# Uncomment to run with Claude (requires ANTHROPIC_API_KEY)\n",
    "from hud.agents import ClaudeAgent\n",
    "\n",
    "# Create an agent\n",
    "agent = ClaudeAgent(\n",
    "    model=\"claude-sonnet-4-20250514\",\n",
    "    allowed_tools=[\"act\"],  # Only allow the act tool\n",
    ")\n",
    "\n",
    "# Run the task\n",
    "result = await agent.run(task)\n",
    "print(f\"Final reward: {result.reward}\")"
   ]
  },
  {
   "cell_type": "markdown",
   "metadata": {},
   "source": [
    "### Next Steps\n",
    "\n",
    "1. **Create your own evaluators**: Add new evaluation functions to `server.py`\n",
    "2. **Build complex environments**: Replace the simple counter with your actual application\n",
    "3. **Test with agents**: Use different AI models to solve your tasks\n",
    "\n",
    "For more examples, check out:\n",
    "- `environments/text_2048/` - A complete 2048 game environment\n",
    "- `environments/browser/` - A full browser automation environment with GUI"
   ]
  },
  {
   "cell_type": "code",
   "execution_count": null,
   "metadata": {},
   "outputs": [],
   "source": []
  }
 ],
 "metadata": {
  "kernelspec": {
   "display_name": "Python 3",
   "language": "python",
   "name": "python3"
  },
  "language_info": {
   "codemirror_mode": {
    "name": "ipython",
    "version": 3
   },
   "file_extension": ".py",
   "mimetype": "text/x-python",
   "name": "python",
   "nbconvert_exporter": "python",
   "pygments_lexer": "ipython3",
   "version": "3.11.0"
  }
 },
 "nbformat": 4,
 "nbformat_minor": 4
}
