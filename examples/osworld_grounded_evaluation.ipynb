{
 "cells": [
  {
   "cell_type": "markdown",
   "metadata": {},
   "source": [
    "# Evaluation with Grounded Agent\n",
    "\n",
    "This notebook shows how to run evaluations using the GroundedOpenAIChatAgent on OSWorld.\n",
    "\n",
    "The grounded agent separates visual grounding from reasoning:\n",
    "- **Planning model** (GPT-4o-mini): High-level reasoning and task planning\n",
    "- **Grounding model** (Qwen2.5-VL): Visual element detection and coordinate resolution\n",
    "\n",
    "## Prerequisites\n",
    "\n",
    "- Set `HUD_API_KEY` in your environment\n",
    "- Set `OPENAI_API_KEY` for the planning model\n",
    "- Set `OPENROUTER_API_KEY` for the grounding model (or use local grounding)"
   ]
  },
  {
   "cell_type": "code",
   "execution_count": null,
   "metadata": {},
   "outputs": [],
   "source": [
    "# !pip install hud-python"
   ]
  },
  {
   "cell_type": "code",
   "execution_count": null,
   "metadata": {},
   "outputs": [],
   "source": [
    "import os\n",
    "import logging\n",
    "\n",
    "import hud\n",
    "from datasets import load_dataset\n",
    "from openai import AsyncOpenAI\n",
    "\n",
    "from hud.agents.grounded_openai import GroundedOpenAIChatAgent\n",
    "from hud.tools.grounding.config import GrounderConfig\n",
    "from hud.settings import settings\n",
    "\n",
    "# Configure logging\n",
    "logging.basicConfig(\n",
    "    level=logging.INFO, format=\"%(asctime)s - %(name)s - %(message)s\", datefmt=\"%H:%M:%S\"\n",
    ")\n",
    "logging.getLogger(\"hud.agents\").setLevel(logging.INFO)\n",
    "logger = logging.getLogger(__name__)"
   ]
  },
  {
   "cell_type": "markdown",
   "metadata": {},
   "source": [
    "## Configuration\n",
    "\n",
    "Set up API keys and model configurations:"
   ]
  },
  {
   "cell_type": "code",
   "execution_count": 16,
   "metadata": {},
   "outputs": [
    {
     "name": "stdout",
     "output_type": "stream",
     "text": [
      "✅ API keys configured\n"
     ]
    }
   ],
   "source": [
    "# API Keys - make sure these are set in your environment\n",
    "OPENAI_API_KEY = os.getenv(\"OPENAI_API_KEY\") or settings.openai_api_key\n",
    "OPENROUTER_API_KEY = os.getenv(\"OPENROUTER_API_KEY\") or settings.openrouter_api_key\n",
    "HUD_API_KEY = os.getenv(\"HUD_API_KEY\")\n",
    "\n",
    "if not OPENAI_API_KEY:\n",
    "    raise ValueError(\"OPENAI_API_KEY not found. Please set it in your environment.\")\n",
    "if not OPENROUTER_API_KEY:\n",
    "    raise ValueError(\"OPENROUTER_API_KEY not found. Please set it in your environment.\")\n",
    "if not HUD_API_KEY:\n",
    "    raise ValueError(\"HUD_API_KEY not found. Please set it in your environment.\")\n",
    "\n",
    "print(\"✅ API keys configured\")"
   ]
  },
  {
   "cell_type": "markdown",
   "metadata": {},
   "source": [
    "## Create Grounded Agent Configuration"
   ]
  },
  {
   "cell_type": "code",
   "execution_count": 17,
   "metadata": {},
   "outputs": [
    {
     "name": "stdout",
     "output_type": "stream",
     "text": [
      "✅ Agent configuration ready\n"
     ]
    }
   ],
   "source": [
    "# Grounding model configuration\n",
    "grounder_config = GrounderConfig(\n",
    "    api_key=OPENROUTER_API_KEY,\n",
    "    api_base=\"https://openrouter.ai/api/v1\",\n",
    "    model=\"qwen/qwen-2.5-vl-7b-instruct\",\n",
    ")\n",
    "\n",
    "# OpenAI client for planning model\n",
    "openai_client = AsyncOpenAI(api_key=OPENAI_API_KEY)\n",
    "\n",
    "# Agent configuration for dataset runner\n",
    "agent_class = GroundedOpenAIChatAgent\n",
    "agent_config = {\n",
    "    \"grounder_config\": grounder_config,\n",
    "    \"openai_client\": openai_client,\n",
    "}\n",
    "\n",
    "print(\"✅ Agent configuration ready\")"
   ]
  },
  {
   "cell_type": "markdown",
   "metadata": {},
   "source": [
    "## Single Task Test\n",
    "\n",
    "First, let's test the grounded agent on a single OSWorld task:"
   ]
  },
  {
   "cell_type": "code",
   "execution_count": 18,
   "metadata": {},
   "outputs": [],
   "source": [
    "async def run_single_task(\n",
    "    dataset_name: str,\n",
    "    task_index: int = 1,\n",
    "    max_steps: int = 10,\n",
    ") -> None:\n",
    "    \"\"\"Load one task from dataset_name and execute it.\"\"\"\n",
    "\n",
    "    print(\"📊 Loading dataset…\")\n",
    "    dataset = load_dataset(dataset_name, split=\"train\")\n",
    "\n",
    "    # Get a task from dataset\n",
    "    sample_task = dataset[task_index]\n",
    "    task_prompt = sample_task.get(\"prompt\", f\"Task {sample_task.get('id', 0)}\")\n",
    "\n",
    "    with hud.trace(name=task_prompt):\n",
    "        task = Task(**sample_task)\n",
    "\n",
    "        # Create agent with configuration\n",
    "        agent = agent_class(**agent_config)\n",
    "        agent.metadata = {}\n",
    "\n",
    "        print(f\"\\n🎯 Task: {task.prompt}\")\n",
    "        result = await agent.run(task, max_steps=max_steps)\n",
    "        print(\"✅ Reward:\", result.reward)\n",
    "        return result"
   ]
  },
  {
   "cell_type": "code",
   "execution_count": 19,
   "metadata": {},
   "outputs": [
    {
     "name": "stdout",
     "output_type": "stream",
     "text": [
      "📊 Loading dataset…\n",
      "\n",
      "\u001b[90m╔═════════════════════════════════════════════════════════════════╗\u001b[0m\n",
      "\u001b[90m║\u001b[0m                    🚀 See your agent live at:                   \u001b[90m║\u001b[0m\n",
      "\u001b[90m╟─────────────────────────────────────────────────────────────────╢\u001b[0m\n",
      "\u001b[90m║\u001b[0m  \u001b[1m\u001b[33mhttps://app.hud.so/trace/a35b27a1-46ff-463f-99d6-06eb5352e81e\u001b[0m  \u001b[90m║\u001b[0m\n",
      "\u001b[90m╚═════════════════════════════════════════════════════════════════╝\u001b[0m\n",
      "\n",
      "\n",
      "🎯 Task: I am currently using a ubuntu system. Could you help me set the default video player as VLC?\n"
     ]
    },
    {
     "data": {
      "text/html": [
       "<pre style=\"white-space:pre;overflow-x:auto;line-height:normal;font-family:Menlo,'DejaVu Sans Mono',consolas,'Courier New',monospace\"><span style=\"color: #000000; text-decoration-color: #000000\">Auto-created MCPClient from task.mcp_config</span>\n",
       "</pre>\n"
      ],
      "text/plain": [
       "\u001b[39mAuto-created MCPClient from task.mcp_config\u001b[0m\n"
      ]
     },
     "metadata": {},
     "output_type": "display_data"
    },
    {
     "name": "stderr",
     "output_type": "stream",
     "text": [
      "13:20:56 - httpx - HTTP Request: POST https://telemetry.hud.so/v3/api/trace/a35b27a1-46ff-463f-99d6-06eb5352e81e/status \"HTTP/1.1 200 OK\"\n",
      "13:22:22 - httpx - HTTP Request: POST https://mcp.hud.so/v3/mcp \"HTTP/1.1 200 OK\"\n",
      "13:22:22 - mcp.client.streamable_http - Received session ID: dddadd0f-0675-4f1b-8068-478b86480df1\n",
      "13:22:22 - mcp.client.streamable_http - Negotiated protocol version: 2025-06-18\n",
      "13:22:23 - httpx - HTTP Request: GET https://mcp.hud.so/v3/mcp \"HTTP/1.1 405 Method Not Allowed\"\n",
      "13:22:23 - httpx - HTTP Request: POST https://mcp.hud.so/v3/mcp \"HTTP/1.1 202 Accepted\"\n",
      "13:22:25 - httpx - HTTP Request: POST https://mcp.hud.so/v3/mcp \"HTTP/1.1 200 OK\"\n",
      "13:22:26 - httpx - HTTP Request: POST https://mcp.hud.so/v3/mcp \"HTTP/1.1 200 OK\"\n",
      "13:22:27 - httpx - HTTP Request: POST https://mcp.hud.so/v3/mcp \"HTTP/1.1 200 OK\"\n",
      "13:22:27 - hud.clients.mcp_use - Created 1 MCP sessions\n",
      "13:22:28 - httpx - HTTP Request: POST https://mcp.hud.so/v3/mcp \"HTTP/1.1 200 OK\"\n",
      "13:22:28 - hud.clients.mcp_use - Discovered 8 tools from 'osworld': ['setup', 'evaluate', 'python_script_tool', 'bash_script_tool', 'computer', 'anthropic_computer', 'openai_computer', 'response']\n",
      "13:22:30 - httpx - HTTP Request: POST https://mcp.hud.so/v3/mcp \"HTTP/1.1 200 OK\"\n",
      "13:22:30 - hud.clients.base - 📡 Telemetry data fetched:\n",
      "13:22:30 - hud.clients.base -    🖥️  Live URL: http://54.234.76.65:5910/vnc.html?password=dBJ70IlWpNzpYhZ4C4Rpbw\n",
      "13:22:30 - hud.clients.base -    📊 Status: ready\n",
      "13:22:30 - hud.clients.base - Client initialized\n"
     ]
    },
    {
     "data": {
      "text/html": [
       "<pre style=\"white-space:pre;overflow-x:auto;line-height:normal;font-family:Menlo,'DejaVu Sans Mono',consolas,'Courier New',monospace\"><span style=\"color: #008000; text-decoration-color: #008000\">✅ Agent initialized with </span><span style=\"color: #008000; text-decoration-color: #008000\">1</span><span style=\"color: #008000; text-decoration-color: #008000\"> available tools (after filtering)</span>\n",
       "</pre>\n"
      ],
      "text/plain": [
       "\u001b[32m✅ Agent initialized with \u001b[0m\u001b[32m1\u001b[0m\u001b[32m available tools \u001b[0m\u001b[32m(\u001b[0m\u001b[32mafter filtering\u001b[0m\u001b[32m)\u001b[0m\n"
      ]
     },
     "metadata": {},
     "output_type": "display_data"
    },
    {
     "data": {
      "text/html": [
       "<pre style=\"white-space:pre;overflow-x:auto;line-height:normal;font-family:Menlo,'DejaVu Sans Mono',consolas,'Courier New',monospace\"><span style=\"color: #7f7f7f; text-decoration-color: #7f7f7f\">Setting up tool phase: → </span><span style=\"color: #bf7fbf; text-decoration-color: #bf7fbf\">setup</span><span style=\"color: #7f7f7f; text-decoration-color: #7f7f7f\">({</span><span style=\"color: #7fbf7f; text-decoration-color: #7fbf7f\">\"task_config\"</span><span style=\"color: #7f7f7f; text-decoration-color: #7f7f7f\">:{</span><span style=\"color: #7fbf7f; text-decoration-color: #7fbf7f\">\"id\"</span><span style=\"color: #7f7f7f; text-decoration-color: #7f7f7f\">:\"937087b6-f668-4ba6-</span><span style=\"color: #7fbfbf; text-decoration-color: #7fbfbf\">9110</span><span style=\"color: #7f7f7f; text-decoration-color: #7f7f7f\">-60682ee3344</span><span style=\"color: #bfbf7f; text-decoration-color: #bfbf7f\">...</span><span style=\"color: #7f7f7f; text-decoration-color: #7f7f7f\">)</span>\n",
       "</pre>\n"
      ],
      "text/plain": [
       "\u001b[2mSetting up tool phase: → \u001b[0m\u001b[2;35msetup\u001b[0m\u001b[2m(\u001b[0m\u001b[2m{\u001b[0m\u001b[2;32m\"task_config\"\u001b[0m\u001b[2m:\u001b[0m\u001b[2m{\u001b[0m\u001b[2;32m\"id\"\u001b[0m\u001b[2m:\"937087b6-f668-4ba6-\u001b[0m\u001b[2;36m9110\u001b[0m\u001b[2m-60682ee3344\u001b[0m\u001b[2;33m...\u001b[0m\u001b[2m)\u001b[0m\n"
      ]
     },
     "metadata": {},
     "output_type": "display_data"
    },
    {
     "name": "stderr",
     "output_type": "stream",
     "text": [
      "13:22:51 - httpx - HTTP Request: POST https://mcp.hud.so/v3/mcp \"HTTP/1.1 200 OK\"\n",
      "13:22:54 - httpx - HTTP Request: POST https://mcp.hud.so/v3/mcp \"HTTP/1.1 200 OK\"\n",
      "13:23:02 - httpx - HTTP Request: POST https://api.openai.com/v1/chat/completions \"HTTP/1.1 200 OK\"\n",
      "13:23:05 - httpx - HTTP Request: POST https://openrouter.ai/api/v1/chat/completions \"HTTP/1.1 200 OK\"\n",
      "13:23:10 - httpx - HTTP Request: POST https://mcp.hud.so/v3/mcp \"HTTP/1.1 200 OK\"\n"
     ]
    },
    {
     "data": {
      "text/html": [
       "<pre style=\"white-space:pre;overflow-x:auto;line-height:normal;font-family:Menlo,'DejaVu Sans Mono',consolas,'Courier New',monospace\">\n",
       "<span style=\"color: #000000; text-decoration-color: #000000; font-weight: bold\">Step </span><span style=\"color: #000000; text-decoration-color: #000000; font-weight: bold\">1</span><span style=\"color: #000000; text-decoration-color: #000000; font-weight: bold\">/</span><span style=\"color: #000000; text-decoration-color: #000000; font-weight: bold\">15</span>\n",
       "<span style=\"color: #000000; text-decoration-color: #000000\">→ computer({</span><span style=\"color: #000000; text-decoration-color: #000000\">\"action\"</span><span style=\"color: #000000; text-decoration-color: #000000\">:</span><span style=\"color: #000000; text-decoration-color: #000000\">\"click\"</span><span style=\"color: #000000; text-decoration-color: #000000\">,</span><span style=\"color: #000000; text-decoration-color: #000000\">\"element_description\"</span><span style=\"color: #000000; text-decoration-color: #000000\">:</span><span style=\"color: #000000; text-decoration-color: #000000\">\"Activities button\"</span><span style=\"color: #000000; text-decoration-color: #000000\">})</span>\n",
       "<span style=\"color: #000000; text-decoration-color: #000000\">✓ Executed: pyautogui.click(</span><span style=\"color: #000000; text-decoration-color: #000000\">x</span><span style=\"color: #000000; text-decoration-color: #000000\">=</span><span style=\"color: #000000; text-decoration-color: #000000\">48</span><span style=\"color: #000000; text-decoration-color: #000000\">, </span><span style=\"color: #000000; text-decoration-color: #000000\">y</span><span style=\"color: #000000; text-decoration-color: #000000\">=</span><span style=\"color: #000000; text-decoration-color: #000000\">15</span><span style=\"color: #000000; text-decoration-color: #000000\">, </span><span style=\"color: #000000; text-decoration-color: #000000\">button</span><span style=\"color: #000000; text-decoration-color: #000000\">=</span><span style=\"color: #000000; text-decoration-color: #000000\">'left'</span><span style=\"color: #000000; text-decoration-color: #000000\">)</span>\n",
       "</pre>\n"
      ],
      "text/plain": [
       "\n",
       "\u001b[1;39mStep \u001b[0m\u001b[1;39m1\u001b[0m\u001b[1;39m/\u001b[0m\u001b[1;39m15\u001b[0m\n",
       "\u001b[39m→ \u001b[0m\u001b[39mcomputer\u001b[0m\u001b[39m(\u001b[0m\u001b[39m{\u001b[0m\u001b[39m\"action\"\u001b[0m\u001b[39m:\u001b[0m\u001b[39m\"click\"\u001b[0m\u001b[39m,\u001b[0m\u001b[39m\"element_description\"\u001b[0m\u001b[39m:\u001b[0m\u001b[39m\"Activities button\"\u001b[0m\u001b[39m}\u001b[0m\u001b[39m)\u001b[0m\n",
       "\u001b[39m✓ Executed: \u001b[0m\u001b[39mpyautogui.click\u001b[0m\u001b[39m(\u001b[0m\u001b[39mx\u001b[0m\u001b[39m=\u001b[0m\u001b[39m48\u001b[0m\u001b[39m, \u001b[0m\u001b[39my\u001b[0m\u001b[39m=\u001b[0m\u001b[39m15\u001b[0m\u001b[39m, \u001b[0m\u001b[39mbutton\u001b[0m\u001b[39m=\u001b[0m\u001b[39m'left'\u001b[0m\u001b[39m)\u001b[0m\n"
      ]
     },
     "metadata": {},
     "output_type": "display_data"
    },
    {
     "name": "stderr",
     "output_type": "stream",
     "text": [
      "13:23:20 - httpx - HTTP Request: POST https://api.openai.com/v1/chat/completions \"HTTP/1.1 200 OK\"\n",
      "13:23:24 - httpx - HTTP Request: POST https://mcp.hud.so/v3/mcp \"HTTP/1.1 200 OK\"\n"
     ]
    },
    {
     "data": {
      "text/html": [
       "<pre style=\"white-space:pre;overflow-x:auto;line-height:normal;font-family:Menlo,'DejaVu Sans Mono',consolas,'Courier New',monospace\">\n",
       "<span style=\"color: #000000; text-decoration-color: #000000; font-weight: bold\">Step </span><span style=\"color: #000000; text-decoration-color: #000000; font-weight: bold\">2</span><span style=\"color: #000000; text-decoration-color: #000000; font-weight: bold\">/</span><span style=\"color: #000000; text-decoration-color: #000000; font-weight: bold\">15</span>\n",
       "<span style=\"color: #000000; text-decoration-color: #000000\">→ computer({</span><span style=\"color: #000000; text-decoration-color: #000000\">\"action\"</span><span style=\"color: #000000; text-decoration-color: #000000\">:</span><span style=\"color: #000000; text-decoration-color: #000000\">\"type\"</span><span style=\"color: #000000; text-decoration-color: #000000\">,</span><span style=\"color: #000000; text-decoration-color: #000000\">\"text\"</span><span style=\"color: #000000; text-decoration-color: #000000\">:</span><span style=\"color: #000000; text-decoration-color: #000000\">\"Settings\"</span><span style=\"color: #000000; text-decoration-color: #000000\">})</span>\n",
       "<span style=\"color: #000000; text-decoration-color: #000000\">✓ Executed: pyautogui.typewrite(</span><span style=\"color: #000000; text-decoration-color: #000000\">'Settings'</span><span style=\"color: #000000; text-decoration-color: #000000\">, </span><span style=\"color: #000000; text-decoration-color: #000000\">interval</span><span style=\"color: #000000; text-decoration-color: #000000\">=</span><span style=\"color: #000000; text-decoration-color: #000000\">0.012</span><span style=\"color: #000000; text-decoration-color: #000000\">)</span>\n",
       "</pre>\n"
      ],
      "text/plain": [
       "\n",
       "\u001b[1;39mStep \u001b[0m\u001b[1;39m2\u001b[0m\u001b[1;39m/\u001b[0m\u001b[1;39m15\u001b[0m\n",
       "\u001b[39m→ \u001b[0m\u001b[39mcomputer\u001b[0m\u001b[39m(\u001b[0m\u001b[39m{\u001b[0m\u001b[39m\"action\"\u001b[0m\u001b[39m:\u001b[0m\u001b[39m\"type\"\u001b[0m\u001b[39m,\u001b[0m\u001b[39m\"text\"\u001b[0m\u001b[39m:\u001b[0m\u001b[39m\"Settings\"\u001b[0m\u001b[39m}\u001b[0m\u001b[39m)\u001b[0m\n",
       "\u001b[39m✓ Executed: \u001b[0m\u001b[39mpyautogui.typewrite\u001b[0m\u001b[39m(\u001b[0m\u001b[39m'Settings'\u001b[0m\u001b[39m, \u001b[0m\u001b[39minterval\u001b[0m\u001b[39m=\u001b[0m\u001b[39m0\u001b[0m\u001b[39m.012\u001b[0m\u001b[39m)\u001b[0m\n"
      ]
     },
     "metadata": {},
     "output_type": "display_data"
    },
    {
     "name": "stderr",
     "output_type": "stream",
     "text": [
      "13:23:32 - httpx - HTTP Request: POST https://api.openai.com/v1/chat/completions \"HTTP/1.1 200 OK\"\n",
      "13:23:35 - httpx - HTTP Request: POST https://openrouter.ai/api/v1/chat/completions \"HTTP/1.1 200 OK\"\n",
      "13:23:40 - httpx - HTTP Request: POST https://mcp.hud.so/v3/mcp \"HTTP/1.1 200 OK\"\n"
     ]
    },
    {
     "data": {
      "text/html": [
       "<pre style=\"white-space:pre;overflow-x:auto;line-height:normal;font-family:Menlo,'DejaVu Sans Mono',consolas,'Courier New',monospace\">\n",
       "<span style=\"color: #000000; text-decoration-color: #000000; font-weight: bold\">Step </span><span style=\"color: #000000; text-decoration-color: #000000; font-weight: bold\">3</span><span style=\"color: #000000; text-decoration-color: #000000; font-weight: bold\">/</span><span style=\"color: #000000; text-decoration-color: #000000; font-weight: bold\">15</span>\n",
       "<span style=\"color: #000000; text-decoration-color: #000000\">→ computer({</span><span style=\"color: #000000; text-decoration-color: #000000\">\"action\"</span><span style=\"color: #000000; text-decoration-color: #000000\">:</span><span style=\"color: #000000; text-decoration-color: #000000\">\"click\"</span><span style=\"color: #000000; text-decoration-color: #000000\">,</span><span style=\"color: #000000; text-decoration-color: #000000\">\"element_description\"</span><span style=\"color: #000000; text-decoration-color: #000000\">:</span><span style=\"color: #000000; text-decoration-color: #000000\">\"Settings icon\"</span><span style=\"color: #000000; text-decoration-color: #000000\">})</span>\n",
       "<span style=\"color: #000000; text-decoration-color: #000000\">✓ Executed: pyautogui.click(</span><span style=\"color: #000000; text-decoration-color: #000000\">x</span><span style=\"color: #000000; text-decoration-color: #000000\">=</span><span style=\"color: #000000; text-decoration-color: #000000\">565</span><span style=\"color: #000000; text-decoration-color: #000000\">, </span><span style=\"color: #000000; text-decoration-color: #000000\">y</span><span style=\"color: #000000; text-decoration-color: #000000\">=</span><span style=\"color: #000000; text-decoration-color: #000000\">174</span><span style=\"color: #000000; text-decoration-color: #000000\">, </span><span style=\"color: #000000; text-decoration-color: #000000\">button</span><span style=\"color: #000000; text-decoration-color: #000000\">=</span><span style=\"color: #000000; text-decoration-color: #000000\">'left'</span><span style=\"color: #000000; text-decoration-color: #000000\">)</span>\n",
       "</pre>\n"
      ],
      "text/plain": [
       "\n",
       "\u001b[1;39mStep \u001b[0m\u001b[1;39m3\u001b[0m\u001b[1;39m/\u001b[0m\u001b[1;39m15\u001b[0m\n",
       "\u001b[39m→ \u001b[0m\u001b[39mcomputer\u001b[0m\u001b[39m(\u001b[0m\u001b[39m{\u001b[0m\u001b[39m\"action\"\u001b[0m\u001b[39m:\u001b[0m\u001b[39m\"click\"\u001b[0m\u001b[39m,\u001b[0m\u001b[39m\"element_description\"\u001b[0m\u001b[39m:\u001b[0m\u001b[39m\"Settings icon\"\u001b[0m\u001b[39m}\u001b[0m\u001b[39m)\u001b[0m\n",
       "\u001b[39m✓ Executed: \u001b[0m\u001b[39mpyautogui.click\u001b[0m\u001b[39m(\u001b[0m\u001b[39mx\u001b[0m\u001b[39m=\u001b[0m\u001b[39m565\u001b[0m\u001b[39m, \u001b[0m\u001b[39my\u001b[0m\u001b[39m=\u001b[0m\u001b[39m174\u001b[0m\u001b[39m, \u001b[0m\u001b[39mbutton\u001b[0m\u001b[39m=\u001b[0m\u001b[39m'left'\u001b[0m\u001b[39m)\u001b[0m\n"
      ]
     },
     "metadata": {},
     "output_type": "display_data"
    },
    {
     "name": "stderr",
     "output_type": "stream",
     "text": [
      "13:23:55 - httpx - HTTP Request: POST https://api.openai.com/v1/chat/completions \"HTTP/1.1 200 OK\"\n"
     ]
    },
    {
     "data": {
      "text/html": [
       "<pre style=\"white-space:pre;overflow-x:auto;line-height:normal;font-family:Menlo,'DejaVu Sans Mono',consolas,'Courier New',monospace\">\n",
       "<span style=\"color: #000000; text-decoration-color: #000000; font-weight: bold\">Step </span><span style=\"color: #000000; text-decoration-color: #000000; font-weight: bold\">4</span><span style=\"color: #000000; text-decoration-color: #000000; font-weight: bold\">/</span><span style=\"color: #000000; text-decoration-color: #000000; font-weight: bold\">15</span>\n",
       "<span style=\"color: #000000; text-decoration-color: #000000\">→ computer({</span><span style=\"color: #000000; text-decoration-color: #000000\">\"action\"</span><span style=\"color: #000000; text-decoration-color: #000000\">:</span><span style=\"color: #000000; text-decoration-color: #000000\">\"scroll\"</span><span style=\"color: #000000; text-decoration-color: #000000\">,</span><span style=\"color: #000000; text-decoration-color: #000000\">\"scroll_y\"</span><span style=\"color: #000000; text-decoration-color: #000000\">:</span><span style=\"color: #000000; text-decoration-color: #000000\">5</span><span style=\"color: #000000; text-decoration-color: #000000\">})</span>\n",
       "<span style=\"color: #000000; text-decoration-color: #000000\">✗ element_description is required for scroll action</span>\n",
       "</pre>\n"
      ],
      "text/plain": [
       "\n",
       "\u001b[1;39mStep \u001b[0m\u001b[1;39m4\u001b[0m\u001b[1;39m/\u001b[0m\u001b[1;39m15\u001b[0m\n",
       "\u001b[39m→ \u001b[0m\u001b[39mcomputer\u001b[0m\u001b[39m(\u001b[0m\u001b[39m{\u001b[0m\u001b[39m\"action\"\u001b[0m\u001b[39m:\u001b[0m\u001b[39m\"scroll\"\u001b[0m\u001b[39m,\u001b[0m\u001b[39m\"scroll_y\"\u001b[0m\u001b[39m:\u001b[0m\u001b[39m5\u001b[0m\u001b[39m}\u001b[0m\u001b[39m)\u001b[0m\n",
       "\u001b[39m✗ element_description is required for scroll action\u001b[0m\n"
      ]
     },
     "metadata": {},
     "output_type": "display_data"
    },
    {
     "name": "stderr",
     "output_type": "stream",
     "text": [
      "13:24:05 - httpx - HTTP Request: POST https://api.openai.com/v1/chat/completions \"HTTP/1.1 200 OK\"\n"
     ]
    },
    {
     "data": {
      "text/html": [
       "<pre style=\"white-space:pre;overflow-x:auto;line-height:normal;font-family:Menlo,'DejaVu Sans Mono',consolas,'Courier New',monospace\">\n",
       "<span style=\"color: #000000; text-decoration-color: #000000; font-weight: bold\">Step </span><span style=\"color: #000000; text-decoration-color: #000000; font-weight: bold\">5</span><span style=\"color: #000000; text-decoration-color: #000000; font-weight: bold\">/</span><span style=\"color: #000000; text-decoration-color: #000000; font-weight: bold\">15</span>\n",
       "<span style=\"color: #000000; text-decoration-color: #000000\">→ computer({</span><span style=\"color: #000000; text-decoration-color: #000000\">\"action\"</span><span style=\"color: #000000; text-decoration-color: #000000\">:</span><span style=\"color: #000000; text-decoration-color: #000000\">\"scroll\"</span><span style=\"color: #000000; text-decoration-color: #000000\">,</span><span style=\"color: #000000; text-decoration-color: #000000\">\"scroll_y\"</span><span style=\"color: #000000; text-decoration-color: #000000\">:</span><span style=\"color: #000000; text-decoration-color: #000000\">5</span><span style=\"color: #000000; text-decoration-color: #000000\">})</span>\n",
       "<span style=\"color: #000000; text-decoration-color: #000000\">✗ element_description is required for scroll action</span>\n",
       "</pre>\n"
      ],
      "text/plain": [
       "\n",
       "\u001b[1;39mStep \u001b[0m\u001b[1;39m5\u001b[0m\u001b[1;39m/\u001b[0m\u001b[1;39m15\u001b[0m\n",
       "\u001b[39m→ \u001b[0m\u001b[39mcomputer\u001b[0m\u001b[39m(\u001b[0m\u001b[39m{\u001b[0m\u001b[39m\"action\"\u001b[0m\u001b[39m:\u001b[0m\u001b[39m\"scroll\"\u001b[0m\u001b[39m,\u001b[0m\u001b[39m\"scroll_y\"\u001b[0m\u001b[39m:\u001b[0m\u001b[39m5\u001b[0m\u001b[39m}\u001b[0m\u001b[39m)\u001b[0m\n",
       "\u001b[39m✗ element_description is required for scroll action\u001b[0m\n"
      ]
     },
     "metadata": {},
     "output_type": "display_data"
    },
    {
     "name": "stderr",
     "output_type": "stream",
     "text": [
      "13:24:19 - httpx - HTTP Request: POST https://api.openai.com/v1/chat/completions \"HTTP/1.1 200 OK\"\n",
      "13:24:23 - httpx - HTTP Request: POST https://openrouter.ai/api/v1/chat/completions \"HTTP/1.1 200 OK\"\n",
      "13:24:30 - httpx - HTTP Request: POST https://mcp.hud.so/v3/mcp \"HTTP/1.1 200 OK\"\n"
     ]
    },
    {
     "data": {
      "text/html": [
       "<pre style=\"white-space:pre;overflow-x:auto;line-height:normal;font-family:Menlo,'DejaVu Sans Mono',consolas,'Courier New',monospace\">\n",
       "<span style=\"color: #000000; text-decoration-color: #000000; font-weight: bold\">Step </span><span style=\"color: #000000; text-decoration-color: #000000; font-weight: bold\">6</span><span style=\"color: #000000; text-decoration-color: #000000; font-weight: bold\">/</span><span style=\"color: #000000; text-decoration-color: #000000; font-weight: bold\">15</span>\n",
       "<span style=\"color: #000000; text-decoration-color: #000000\">→ computer({</span><span style=\"color: #000000; text-decoration-color: #000000\">\"action\"</span><span style=\"color: #000000; text-decoration-color: #000000\">:</span><span style=\"color: #000000; text-decoration-color: #000000\">\"scroll\"</span><span style=\"color: #000000; text-decoration-color: #000000\">,</span><span style=\"color: #000000; text-decoration-color: #000000\">\"scroll_y\"</span><span style=\"color: #000000; text-decoration-color: #000000\">:</span><span style=\"color: #000000; text-decoration-color: #000000\">5</span><span style=\"color: #000000; text-decoration-color: #000000\">,</span><span style=\"color: #000000; text-decoration-color: #000000\">\"element_description\"</span><span style=\"color: #000000; text-decoration-color: #000000\">:\"ma...)</span>\n",
       "<span style=\"color: #000000; text-decoration-color: #000000\">✓ Executed: pyautogui.scroll(</span><span style=\"color: #000000; text-decoration-color: #000000\">clicks</span><span style=\"color: #000000; text-decoration-color: #000000\">=</span><span style=\"color: #000000; text-decoration-color: #000000\">-5</span><span style=\"color: #000000; text-decoration-color: #000000\">)</span>\n",
       "</pre>\n"
      ],
      "text/plain": [
       "\n",
       "\u001b[1;39mStep \u001b[0m\u001b[1;39m6\u001b[0m\u001b[1;39m/\u001b[0m\u001b[1;39m15\u001b[0m\n",
       "\u001b[39m→ \u001b[0m\u001b[39mcomputer\u001b[0m\u001b[39m(\u001b[0m\u001b[39m{\u001b[0m\u001b[39m\"action\"\u001b[0m\u001b[39m:\u001b[0m\u001b[39m\"scroll\"\u001b[0m\u001b[39m,\u001b[0m\u001b[39m\"scroll_y\"\u001b[0m\u001b[39m:\u001b[0m\u001b[39m5\u001b[0m\u001b[39m,\u001b[0m\u001b[39m\"element_description\"\u001b[0m\u001b[39m:\"ma\u001b[0m\u001b[39m...\u001b[0m\u001b[39m)\u001b[0m\n",
       "\u001b[39m✓ Executed: \u001b[0m\u001b[39mpyautogui.scroll\u001b[0m\u001b[39m(\u001b[0m\u001b[39mclicks\u001b[0m\u001b[39m=\u001b[0m\u001b[39m-5\u001b[0m\u001b[39m)\u001b[0m\n"
      ]
     },
     "metadata": {},
     "output_type": "display_data"
    },
    {
     "name": "stderr",
     "output_type": "stream",
     "text": [
      "13:24:41 - httpx - HTTP Request: POST https://api.openai.com/v1/chat/completions \"HTTP/1.1 200 OK\"\n",
      "13:24:43 - httpx - HTTP Request: POST https://openrouter.ai/api/v1/chat/completions \"HTTP/1.1 200 OK\"\n",
      "13:24:51 - httpx - HTTP Request: POST https://mcp.hud.so/v3/mcp \"HTTP/1.1 200 OK\"\n"
     ]
    },
    {
     "data": {
      "text/html": [
       "<pre style=\"white-space:pre;overflow-x:auto;line-height:normal;font-family:Menlo,'DejaVu Sans Mono',consolas,'Courier New',monospace\">\n",
       "<span style=\"color: #000000; text-decoration-color: #000000; font-weight: bold\">Step </span><span style=\"color: #000000; text-decoration-color: #000000; font-weight: bold\">7</span><span style=\"color: #000000; text-decoration-color: #000000; font-weight: bold\">/</span><span style=\"color: #000000; text-decoration-color: #000000; font-weight: bold\">15</span>\n",
       "<span style=\"color: #000000; text-decoration-color: #000000\">→ computer({</span><span style=\"color: #000000; text-decoration-color: #000000\">\"action\"</span><span style=\"color: #000000; text-decoration-color: #000000\">:</span><span style=\"color: #000000; text-decoration-color: #000000\">\"scroll\"</span><span style=\"color: #000000; text-decoration-color: #000000\">,</span><span style=\"color: #000000; text-decoration-color: #000000\">\"scroll_y\"</span><span style=\"color: #000000; text-decoration-color: #000000\">:</span><span style=\"color: #000000; text-decoration-color: #000000\">5</span><span style=\"color: #000000; text-decoration-color: #000000\">,</span><span style=\"color: #000000; text-decoration-color: #000000\">\"element_description\"</span><span style=\"color: #000000; text-decoration-color: #000000\">:\"le...)</span>\n",
       "<span style=\"color: #000000; text-decoration-color: #000000\">✓ Executed: pyautogui.scroll(</span><span style=\"color: #000000; text-decoration-color: #000000\">clicks</span><span style=\"color: #000000; text-decoration-color: #000000\">=</span><span style=\"color: #000000; text-decoration-color: #000000\">-5</span><span style=\"color: #000000; text-decoration-color: #000000\">)</span>\n",
       "</pre>\n"
      ],
      "text/plain": [
       "\n",
       "\u001b[1;39mStep \u001b[0m\u001b[1;39m7\u001b[0m\u001b[1;39m/\u001b[0m\u001b[1;39m15\u001b[0m\n",
       "\u001b[39m→ \u001b[0m\u001b[39mcomputer\u001b[0m\u001b[39m(\u001b[0m\u001b[39m{\u001b[0m\u001b[39m\"action\"\u001b[0m\u001b[39m:\u001b[0m\u001b[39m\"scroll\"\u001b[0m\u001b[39m,\u001b[0m\u001b[39m\"scroll_y\"\u001b[0m\u001b[39m:\u001b[0m\u001b[39m5\u001b[0m\u001b[39m,\u001b[0m\u001b[39m\"element_description\"\u001b[0m\u001b[39m:\"le\u001b[0m\u001b[39m...\u001b[0m\u001b[39m)\u001b[0m\n",
       "\u001b[39m✓ Executed: \u001b[0m\u001b[39mpyautogui.scroll\u001b[0m\u001b[39m(\u001b[0m\u001b[39mclicks\u001b[0m\u001b[39m=\u001b[0m\u001b[39m-5\u001b[0m\u001b[39m)\u001b[0m\n"
      ]
     },
     "metadata": {},
     "output_type": "display_data"
    },
    {
     "name": "stderr",
     "output_type": "stream",
     "text": [
      "13:25:06 - httpx - HTTP Request: POST https://api.openai.com/v1/chat/completions \"HTTP/1.1 200 OK\"\n",
      "13:25:10 - httpx - HTTP Request: POST https://openrouter.ai/api/v1/chat/completions \"HTTP/1.1 200 OK\"\n",
      "13:25:15 - httpx - HTTP Request: POST https://mcp.hud.so/v3/mcp \"HTTP/1.1 200 OK\"\n"
     ]
    },
    {
     "data": {
      "text/html": [
       "<pre style=\"white-space:pre;overflow-x:auto;line-height:normal;font-family:Menlo,'DejaVu Sans Mono',consolas,'Courier New',monospace\">\n",
       "<span style=\"color: #000000; text-decoration-color: #000000; font-weight: bold\">Step </span><span style=\"color: #000000; text-decoration-color: #000000; font-weight: bold\">8</span><span style=\"color: #000000; text-decoration-color: #000000; font-weight: bold\">/</span><span style=\"color: #000000; text-decoration-color: #000000; font-weight: bold\">15</span>\n",
       "<span style=\"color: #000000; text-decoration-color: #000000\">→ computer({</span><span style=\"color: #000000; text-decoration-color: #000000\">\"action\"</span><span style=\"color: #000000; text-decoration-color: #000000\">:</span><span style=\"color: #000000; text-decoration-color: #000000\">\"click\"</span><span style=\"color: #000000; text-decoration-color: #000000\">,</span><span style=\"color: #000000; text-decoration-color: #000000\">\"element_description\"</span><span style=\"color: #000000; text-decoration-color: #000000\">:\"Default Applicat...)</span>\n",
       "<span style=\"color: #000000; text-decoration-color: #000000\">✓ Executed: pyautogui.click(</span><span style=\"color: #000000; text-decoration-color: #000000\">x</span><span style=\"color: #000000; text-decoration-color: #000000\">=</span><span style=\"color: #000000; text-decoration-color: #000000\">552</span><span style=\"color: #000000; text-decoration-color: #000000\">, </span><span style=\"color: #000000; text-decoration-color: #000000\">y</span><span style=\"color: #000000; text-decoration-color: #000000\">=</span><span style=\"color: #000000; text-decoration-color: #000000\">854</span><span style=\"color: #000000; text-decoration-color: #000000\">, </span><span style=\"color: #000000; text-decoration-color: #000000\">button</span><span style=\"color: #000000; text-decoration-color: #000000\">=</span><span style=\"color: #000000; text-decoration-color: #000000\">'left'</span><span style=\"color: #000000; text-decoration-color: #000000\">)</span>\n",
       "</pre>\n"
      ],
      "text/plain": [
       "\n",
       "\u001b[1;39mStep \u001b[0m\u001b[1;39m8\u001b[0m\u001b[1;39m/\u001b[0m\u001b[1;39m15\u001b[0m\n",
       "\u001b[39m→ \u001b[0m\u001b[39mcomputer\u001b[0m\u001b[39m(\u001b[0m\u001b[39m{\u001b[0m\u001b[39m\"action\"\u001b[0m\u001b[39m:\u001b[0m\u001b[39m\"click\"\u001b[0m\u001b[39m,\u001b[0m\u001b[39m\"element_description\"\u001b[0m\u001b[39m:\"Default Applicat\u001b[0m\u001b[39m...\u001b[0m\u001b[39m)\u001b[0m\n",
       "\u001b[39m✓ Executed: \u001b[0m\u001b[39mpyautogui.click\u001b[0m\u001b[39m(\u001b[0m\u001b[39mx\u001b[0m\u001b[39m=\u001b[0m\u001b[39m552\u001b[0m\u001b[39m, \u001b[0m\u001b[39my\u001b[0m\u001b[39m=\u001b[0m\u001b[39m854\u001b[0m\u001b[39m, \u001b[0m\u001b[39mbutton\u001b[0m\u001b[39m=\u001b[0m\u001b[39m'left'\u001b[0m\u001b[39m)\u001b[0m\n"
      ]
     },
     "metadata": {},
     "output_type": "display_data"
    },
    {
     "name": "stderr",
     "output_type": "stream",
     "text": [
      "13:25:51 - httpx - HTTP Request: POST https://api.openai.com/v1/chat/completions \"HTTP/1.1 200 OK\"\n",
      "13:25:53 - httpx - HTTP Request: POST https://openrouter.ai/api/v1/chat/completions \"HTTP/1.1 200 OK\"\n",
      "13:25:58 - httpx - HTTP Request: POST https://mcp.hud.so/v3/mcp \"HTTP/1.1 200 OK\"\n"
     ]
    },
    {
     "data": {
      "text/html": [
       "<pre style=\"white-space:pre;overflow-x:auto;line-height:normal;font-family:Menlo,'DejaVu Sans Mono',consolas,'Courier New',monospace\">\n",
       "<span style=\"color: #000000; text-decoration-color: #000000; font-weight: bold\">Step </span><span style=\"color: #000000; text-decoration-color: #000000; font-weight: bold\">9</span><span style=\"color: #000000; text-decoration-color: #000000; font-weight: bold\">/</span><span style=\"color: #000000; text-decoration-color: #000000; font-weight: bold\">15</span>\n",
       "<span style=\"color: #000000; text-decoration-color: #000000\">→ computer({</span><span style=\"color: #000000; text-decoration-color: #000000\">\"action\"</span><span style=\"color: #000000; text-decoration-color: #000000\">:</span><span style=\"color: #000000; text-decoration-color: #000000\">\"click\"</span><span style=\"color: #000000; text-decoration-color: #000000\">,</span><span style=\"color: #000000; text-decoration-color: #000000\">\"element_description\"</span><span style=\"color: #000000; text-decoration-color: #000000\">:\"dropdown menu ne...)</span>\n",
       "<span style=\"color: #000000; text-decoration-color: #000000\">✓ Executed: pyautogui.click(</span><span style=\"color: #000000; text-decoration-color: #000000\">x</span><span style=\"color: #000000; text-decoration-color: #000000\">=</span><span style=\"color: #000000; text-decoration-color: #000000\">1178</span><span style=\"color: #000000; text-decoration-color: #000000\">, </span><span style=\"color: #000000; text-decoration-color: #000000\">y</span><span style=\"color: #000000; text-decoration-color: #000000\">=</span><span style=\"color: #000000; text-decoration-color: #000000\">420</span><span style=\"color: #000000; text-decoration-color: #000000\">, </span><span style=\"color: #000000; text-decoration-color: #000000\">button</span><span style=\"color: #000000; text-decoration-color: #000000\">=</span><span style=\"color: #000000; text-decoration-color: #000000\">'left'</span><span style=\"color: #000000; text-decoration-color: #000000\">)</span>\n",
       "</pre>\n"
      ],
      "text/plain": [
       "\n",
       "\u001b[1;39mStep \u001b[0m\u001b[1;39m9\u001b[0m\u001b[1;39m/\u001b[0m\u001b[1;39m15\u001b[0m\n",
       "\u001b[39m→ \u001b[0m\u001b[39mcomputer\u001b[0m\u001b[39m(\u001b[0m\u001b[39m{\u001b[0m\u001b[39m\"action\"\u001b[0m\u001b[39m:\u001b[0m\u001b[39m\"click\"\u001b[0m\u001b[39m,\u001b[0m\u001b[39m\"element_description\"\u001b[0m\u001b[39m:\"dropdown menu ne\u001b[0m\u001b[39m...\u001b[0m\u001b[39m)\u001b[0m\n",
       "\u001b[39m✓ Executed: \u001b[0m\u001b[39mpyautogui.click\u001b[0m\u001b[39m(\u001b[0m\u001b[39mx\u001b[0m\u001b[39m=\u001b[0m\u001b[39m1178\u001b[0m\u001b[39m, \u001b[0m\u001b[39my\u001b[0m\u001b[39m=\u001b[0m\u001b[39m420\u001b[0m\u001b[39m, \u001b[0m\u001b[39mbutton\u001b[0m\u001b[39m=\u001b[0m\u001b[39m'left'\u001b[0m\u001b[39m)\u001b[0m\n"
      ]
     },
     "metadata": {},
     "output_type": "display_data"
    },
    {
     "name": "stderr",
     "output_type": "stream",
     "text": [
      "13:26:23 - httpx - HTTP Request: POST https://api.openai.com/v1/chat/completions \"HTTP/1.1 200 OK\"\n",
      "13:26:25 - httpx - HTTP Request: POST https://openrouter.ai/api/v1/chat/completions \"HTTP/1.1 200 OK\"\n",
      "13:26:29 - httpx - HTTP Request: POST https://mcp.hud.so/v3/mcp \"HTTP/1.1 200 OK\"\n"
     ]
    },
    {
     "data": {
      "text/html": [
       "<pre style=\"white-space:pre;overflow-x:auto;line-height:normal;font-family:Menlo,'DejaVu Sans Mono',consolas,'Courier New',monospace\">\n",
       "<span style=\"color: #000000; text-decoration-color: #000000; font-weight: bold\">Step </span><span style=\"color: #000000; text-decoration-color: #000000; font-weight: bold\">10</span><span style=\"color: #000000; text-decoration-color: #000000; font-weight: bold\">/</span><span style=\"color: #000000; text-decoration-color: #000000; font-weight: bold\">15</span>\n",
       "<span style=\"color: #000000; text-decoration-color: #000000\">→ computer({</span><span style=\"color: #000000; text-decoration-color: #000000\">\"action\"</span><span style=\"color: #000000; text-decoration-color: #000000\">:</span><span style=\"color: #000000; text-decoration-color: #000000\">\"click\"</span><span style=\"color: #000000; text-decoration-color: #000000\">,</span><span style=\"color: #000000; text-decoration-color: #000000\">\"element_description\"</span><span style=\"color: #000000; text-decoration-color: #000000\">:\"VLC media player...)</span>\n",
       "<span style=\"color: #000000; text-decoration-color: #000000\">✓ Executed: pyautogui.click(</span><span style=\"color: #000000; text-decoration-color: #000000\">x</span><span style=\"color: #000000; text-decoration-color: #000000\">=</span><span style=\"color: #000000; text-decoration-color: #000000\">1146</span><span style=\"color: #000000; text-decoration-color: #000000\">, </span><span style=\"color: #000000; text-decoration-color: #000000\">y</span><span style=\"color: #000000; text-decoration-color: #000000\">=</span><span style=\"color: #000000; text-decoration-color: #000000\">456</span><span style=\"color: #000000; text-decoration-color: #000000\">, </span><span style=\"color: #000000; text-decoration-color: #000000\">button</span><span style=\"color: #000000; text-decoration-color: #000000\">=</span><span style=\"color: #000000; text-decoration-color: #000000\">'left'</span><span style=\"color: #000000; text-decoration-color: #000000\">)</span>\n",
       "</pre>\n"
      ],
      "text/plain": [
       "\n",
       "\u001b[1;39mStep \u001b[0m\u001b[1;39m10\u001b[0m\u001b[1;39m/\u001b[0m\u001b[1;39m15\u001b[0m\n",
       "\u001b[39m→ \u001b[0m\u001b[39mcomputer\u001b[0m\u001b[39m(\u001b[0m\u001b[39m{\u001b[0m\u001b[39m\"action\"\u001b[0m\u001b[39m:\u001b[0m\u001b[39m\"click\"\u001b[0m\u001b[39m,\u001b[0m\u001b[39m\"element_description\"\u001b[0m\u001b[39m:\"VLC media player\u001b[0m\u001b[39m...\u001b[0m\u001b[39m)\u001b[0m\n",
       "\u001b[39m✓ Executed: \u001b[0m\u001b[39mpyautogui.click\u001b[0m\u001b[39m(\u001b[0m\u001b[39mx\u001b[0m\u001b[39m=\u001b[0m\u001b[39m1146\u001b[0m\u001b[39m, \u001b[0m\u001b[39my\u001b[0m\u001b[39m=\u001b[0m\u001b[39m456\u001b[0m\u001b[39m, \u001b[0m\u001b[39mbutton\u001b[0m\u001b[39m=\u001b[0m\u001b[39m'left'\u001b[0m\u001b[39m)\u001b[0m\n"
      ]
     },
     "metadata": {},
     "output_type": "display_data"
    },
    {
     "name": "stderr",
     "output_type": "stream",
     "text": [
      "13:26:57 - httpx - HTTP Request: POST https://api.openai.com/v1/chat/completions \"HTTP/1.1 200 OK\"\n",
      "13:26:58 - httpx - HTTP Request: POST https://openrouter.ai/api/v1/chat/completions \"HTTP/1.1 200 OK\"\n",
      "13:27:04 - httpx - HTTP Request: POST https://mcp.hud.so/v3/mcp \"HTTP/1.1 200 OK\"\n"
     ]
    },
    {
     "data": {
      "text/html": [
       "<pre style=\"white-space:pre;overflow-x:auto;line-height:normal;font-family:Menlo,'DejaVu Sans Mono',consolas,'Courier New',monospace\">\n",
       "<span style=\"color: #000000; text-decoration-color: #000000; font-weight: bold\">Step </span><span style=\"color: #000000; text-decoration-color: #000000; font-weight: bold\">11</span><span style=\"color: #000000; text-decoration-color: #000000; font-weight: bold\">/</span><span style=\"color: #000000; text-decoration-color: #000000; font-weight: bold\">15</span>\n",
       "<span style=\"color: #000000; text-decoration-color: #000000\">→ computer({</span><span style=\"color: #000000; text-decoration-color: #000000\">\"action\"</span><span style=\"color: #000000; text-decoration-color: #000000\">:</span><span style=\"color: #000000; text-decoration-color: #000000\">\"click\"</span><span style=\"color: #000000; text-decoration-color: #000000\">,</span><span style=\"color: #000000; text-decoration-color: #000000\">\"element_description\"</span><span style=\"color: #000000; text-decoration-color: #000000\">:\"close button in ...)</span>\n",
       "<span style=\"color: #000000; text-decoration-color: #000000\">✓ Executed: pyautogui.click(</span><span style=\"color: #000000; text-decoration-color: #000000\">x</span><span style=\"color: #000000; text-decoration-color: #000000\">=</span><span style=\"color: #000000; text-decoration-color: #000000\">1471</span><span style=\"color: #000000; text-decoration-color: #000000\">, </span><span style=\"color: #000000; text-decoration-color: #000000\">y</span><span style=\"color: #000000; text-decoration-color: #000000\">=</span><span style=\"color: #000000; text-decoration-color: #000000\">163</span><span style=\"color: #000000; text-decoration-color: #000000\">, </span><span style=\"color: #000000; text-decoration-color: #000000\">button</span><span style=\"color: #000000; text-decoration-color: #000000\">=</span><span style=\"color: #000000; text-decoration-color: #000000\">'left'</span><span style=\"color: #000000; text-decoration-color: #000000\">)</span>\n",
       "</pre>\n"
      ],
      "text/plain": [
       "\n",
       "\u001b[1;39mStep \u001b[0m\u001b[1;39m11\u001b[0m\u001b[1;39m/\u001b[0m\u001b[1;39m15\u001b[0m\n",
       "\u001b[39m→ \u001b[0m\u001b[39mcomputer\u001b[0m\u001b[39m(\u001b[0m\u001b[39m{\u001b[0m\u001b[39m\"action\"\u001b[0m\u001b[39m:\u001b[0m\u001b[39m\"click\"\u001b[0m\u001b[39m,\u001b[0m\u001b[39m\"element_description\"\u001b[0m\u001b[39m:\"close button in \u001b[0m\u001b[39m...\u001b[0m\u001b[39m)\u001b[0m\n",
       "\u001b[39m✓ Executed: \u001b[0m\u001b[39mpyautogui.click\u001b[0m\u001b[39m(\u001b[0m\u001b[39mx\u001b[0m\u001b[39m=\u001b[0m\u001b[39m1471\u001b[0m\u001b[39m, \u001b[0m\u001b[39my\u001b[0m\u001b[39m=\u001b[0m\u001b[39m163\u001b[0m\u001b[39m, \u001b[0m\u001b[39mbutton\u001b[0m\u001b[39m=\u001b[0m\u001b[39m'left'\u001b[0m\u001b[39m)\u001b[0m\n"
      ]
     },
     "metadata": {},
     "output_type": "display_data"
    },
    {
     "name": "stderr",
     "output_type": "stream",
     "text": [
      "13:27:34 - httpx - HTTP Request: POST https://api.openai.com/v1/chat/completions \"HTTP/1.1 200 OK\"\n"
     ]
    },
    {
     "data": {
      "text/html": [
       "<pre style=\"white-space:pre;overflow-x:auto;line-height:normal;font-family:Menlo,'DejaVu Sans Mono',consolas,'Courier New',monospace\"><span style=\"color: #7f7f7f; text-decoration-color: #7f7f7f\">Evaluating tool phase: [</span><span style=\"color: #bf7fbf; text-decoration-color: #bf7fbf\">MCPToolCall</span><span style=\"color: #7f7f7f; text-decoration-color: #7f7f7f\">(</span><span style=\"color: #bfbf7f; text-decoration-color: #bfbf7f\">meta</span><span style=\"color: #7f7f7f; text-decoration-color: #7f7f7f\">=</span><span style=\"color: #bf7fbf; text-decoration-color: #bf7fbf; font-style: italic\">None</span><span style=\"color: #7f7f7f; text-decoration-color: #7f7f7f\">, </span><span style=\"color: #bfbf7f; text-decoration-color: #bfbf7f\">name</span><span style=\"color: #7f7f7f; text-decoration-color: #7f7f7f\">=</span><span style=\"color: #7fbf7f; text-decoration-color: #7fbf7f\">'evaluate'</span><span style=\"color: #7f7f7f; text-decoration-color: #7f7f7f\">, </span><span style=\"color: #bfbf7f; text-decoration-color: #bfbf7f\">arguments</span><span style=\"color: #7f7f7f; text-decoration-color: #7f7f7f\">={}, </span>\n",
       "<span style=\"color: #bfbf7f; text-decoration-color: #bfbf7f\">id</span><span style=\"color: #7f7f7f; text-decoration-color: #7f7f7f\">=</span><span style=\"color: #7fbf7f; text-decoration-color: #7fbf7f\">'1b7031fc-7873-4ad9-96da-491bdfde2cd5'</span><span style=\"color: #7f7f7f; text-decoration-color: #7f7f7f\">)]</span>\n",
       "</pre>\n"
      ],
      "text/plain": [
       "\u001b[2mEvaluating tool phase: \u001b[0m\u001b[2m[\u001b[0m\u001b[2;35mMCPToolCall\u001b[0m\u001b[2m(\u001b[0m\u001b[2;33mmeta\u001b[0m\u001b[2m=\u001b[0m\u001b[2;3;35mNone\u001b[0m\u001b[2m, \u001b[0m\u001b[2;33mname\u001b[0m\u001b[2m=\u001b[0m\u001b[2;32m'evaluate'\u001b[0m\u001b[2m, \u001b[0m\u001b[2;33marguments\u001b[0m\u001b[2m=\u001b[0m\u001b[2m{\u001b[0m\u001b[2m}\u001b[0m\u001b[2m, \u001b[0m\n",
       "\u001b[2;33mid\u001b[0m\u001b[2m=\u001b[0m\u001b[2;32m'1b7031fc-7873-4ad9-96da-491bdfde2cd5'\u001b[0m\u001b[2m)\u001b[0m\u001b[2m]\u001b[0m\n"
      ]
     },
     "metadata": {},
     "output_type": "display_data"
    },
    {
     "name": "stderr",
     "output_type": "stream",
     "text": [
      "13:27:37 - httpx - HTTP Request: POST https://mcp.hud.so/v3/mcp \"HTTP/1.1 200 OK\"\n",
      "13:27:37 - client - Tool evaluate has an output schema but did not return structured content. Continuing without structured content validation.\n",
      "13:27:39 - httpx - HTTP Request: DELETE https://mcp.hud.so/v3/mcp \"HTTP/1.1 204 No Content\"\n",
      "13:27:39 - hud.clients.base - Client disconnected\n"
     ]
    },
    {
     "name": "stdout",
     "output_type": "stream",
     "text": [
      "✅ Reward: 1.0\n"
     ]
    },
    {
     "name": "stderr",
     "output_type": "stream",
     "text": [
      "13:27:39 - httpx - HTTP Request: POST https://telemetry.hud.so/v3/api/trace/a35b27a1-46ff-463f-99d6-06eb5352e81e/status \"HTTP/1.1 200 OK\"\n"
     ]
    },
    {
     "name": "stdout",
     "output_type": "stream",
     "text": [
      "\n",
      "\u001b[92m✓ Trace complete!\u001b[0m \u001b[2mView at:\u001b[0m \u001b[1m\u001b[33mhttps://app.hud.so/trace/a35b27a1-46ff-463f-99d6-06eb5352e81e\u001b[0m\n",
      "\n"
     ]
    }
   ],
   "source": [
    "# Test single task\n",
    "result = await run_single_task(\"hud-evals/OSWorld-Verified\", task_index=1, max_steps=15)"
   ]
  }
 ],
 "metadata": {
  "kernelspec": {
   "display_name": "Python 3",
   "language": "python",
   "name": "python3"
  },
  "language_info": {
   "codemirror_mode": {
    "name": "ipython",
    "version": 3
   },
   "file_extension": ".py",
   "mimetype": "text/x-python",
   "name": "python",
   "nbconvert_exporter": "python",
   "pygments_lexer": "ipython3",
   "version": "3.11.0"
  }
 },
 "nbformat": 4,
 "nbformat_minor": 4
}
