{
 "cells": [
  {
   "cell_type": "markdown",
   "metadata": {},
   "source": [
    "# OSWorld Evaluation with Grounded Agent\n",
    "\n",
    "This notebook evaluates the GroundedOpenAIChatAgent on OSWorld test-subset tasks.\n",
    "\n",
    "The grounded agent separates visual grounding from reasoning:\n",
    "- **Planning model** (GPT-4o-mini): High-level reasoning and task planning\n",
    "- **Grounding model** (Qwen2.5-VL): Visual element detection and coordinate resolution\n",
    "\n",
    "## Prerequisites\n",
    "\n",
    "- Set `HUD_API_KEY` in your environment\n",
    "- Set `OPENAI_API_KEY` for the planning model\n",
    "- Set `OPENROUTER_API_KEY` for the grounding model (or use local grounding)\n"
   ]
  },
  {
   "cell_type": "code",
   "execution_count": null,
   "metadata": {},
   "outputs": [],
   "source": [
    "# !pip install hud-python"
   ]
  },
  {
   "cell_type": "code",
   "execution_count": 1,
   "metadata": {},
   "outputs": [
    {
     "name": "stderr",
     "output_type": "stream",
     "text": [
      "/Users/jaideepchawla/dev/hud/hud-python/.venv/lib/python3.13/site-packages/tqdm/auto.py:21: TqdmWarning: IProgress not found. Please update jupyter and ipywidgets. See https://ipywidgets.readthedocs.io/en/stable/user_install.html\n",
      "  from .autonotebook import tqdm as notebook_tqdm\n"
     ]
    }
   ],
   "source": [
    "import os\n",
    "import logging\n",
    "import time\n",
    "from typing import Any\n",
    "\n",
    "import hud\n",
    "from datasets import load_dataset\n",
    "from openai import AsyncOpenAI\n",
    "\n",
    "from hud.agents.grounded_openai import GroundedOpenAIChatAgent\n",
    "from hud.tools.grounding.config import GrounderConfig\n",
    "from hud.datasets import Task, run_dataset\n",
    "from hud.settings import settings\n",
    "\n",
    "# Configure logging\n",
    "logging.basicConfig(\n",
    "    level=logging.INFO, \n",
    "    format=\"%(asctime)s - %(name)s - %(message)s\", \n",
    "    datefmt=\"%H:%M:%S\"\n",
    ")\n",
    "logging.getLogger(\"hud.agents\").setLevel(logging.INFO)"
   ]
  },
  {
   "cell_type": "markdown",
   "metadata": {},
   "source": [
    "## Configuration\n",
    "\n",
    "Set up API keys and model configurations:"
   ]
  },
  {
   "cell_type": "code",
   "execution_count": 2,
   "metadata": {},
   "outputs": [
    {
     "name": "stdout",
     "output_type": "stream",
     "text": [
      "✅ API keys configured\n"
     ]
    }
   ],
   "source": [
    "# API Keys - make sure these are set in your environment\n",
    "OPENAI_API_KEY = os.getenv(\"OPENAI_API_KEY\") or settings.openai_api_key\n",
    "OPENROUTER_API_KEY = os.getenv(\"OPENROUTER_API_KEY\") or settings.openrouter_api_key\n",
    "HUD_API_KEY = os.getenv(\"HUD_API_KEY\")\n",
    "\n",
    "if not OPENAI_API_KEY:\n",
    "    raise ValueError(\"OPENAI_API_KEY not found. Please set it in your environment.\")\n",
    "if not OPENROUTER_API_KEY:\n",
    "    raise ValueError(\"OPENROUTER_API_KEY not found. Please set it in your environment.\")\n",
    "if not HUD_API_KEY:\n",
    "    raise ValueError(\"HUD_API_KEY not found. Please set it in your environment.\")\n",
    "\n",
    "print(\"✅ API keys configured\")"
   ]
  },
  {
   "cell_type": "markdown",
   "metadata": {},
   "source": [
    "## Create Grounded Agent\n",
    "\n",
    "The grounded agent uses defaults from the examples - minimal configuration needed:"
   ]
  },
  {
   "cell_type": "code",
   "execution_count": null,
   "metadata": {},
   "outputs": [
    {
     "name": "stdout",
     "output_type": "stream",
     "text": [
      "✅ Agent configuration ready\n"
     ]
    }
   ],
   "source": [
    "# Grounding model configuration (uses good defaults)\n",
    "grounder_config = GrounderConfig(\n",
    "    api_key=OPENROUTER_API_KEY,\n",
    "    api_base=\"https://openrouter.ai/api/v1\",  # Default\n",
    "    model=\"qwen/qwen-2.5-vl-7b-instruct\",     # Default\n",
    "    # system_prompt=... good default for grounding # Default\n",
    ")\n",
    "\n",
    "# OpenAI client for planning model\n",
    "openai_client = AsyncOpenAI(api_key=OPENAI_API_KEY)\n",
    "\n",
    "# Create grounded agent with defaults\n",
    "def create_grounded_agent() -> GroundedOpenAIChatAgent:\n",
    "    return GroundedOpenAIChatAgent(\n",
    "        grounder_config=grounder_config,\n",
    "        openai_client=openai_client,\n",
    "        # model_name=\"gpt-4o-mini\",           # Default\n",
    "        # allowed_tools=[\"computer\"],         # Default \n",
    "        # append_setup_output=False,          # Default\n",
    "        # system_prompt=... good default...  # Default\n",
    "    )\n",
    "\n",
    "print(\"✅ Agent configuration ready\")"
   ]
  },
  {
   "cell_type": "markdown",
   "metadata": {},
   "source": [
    "## Single Task Test\n",
    "\n",
    "First, let's test the grounded agent on a single OSWorld task:"
   ]
  },
  {
   "cell_type": "code",
   "execution_count": null,
   "metadata": {},
   "outputs": [
    {
     "name": "stdout",
     "output_type": "stream",
     "text": [
      "📊 Loading OSWorld test-subset...\n",
      "\n",
      "🎯 Task: I am currently using a ubuntu system. Could you help me set the default video player as VLC?\n",
      "📝 Max steps: 15\n",
      "\n",
      "\u001b[90m╔═════════════════════════════════════════════════════════════════╗\u001b[0m\n",
      "\u001b[90m║\u001b[0m                    🚀 See your agent live at:                   \u001b[90m║\u001b[0m\n",
      "\u001b[90m╟─────────────────────────────────────────────────────────────────╢\u001b[0m\n",
      "\u001b[90m║\u001b[0m  \u001b[1m\u001b[33mhttps://app.hud.so/trace/58341e55-21c2-4cc4-aec2-2e8cfe7bb914\u001b[0m  \u001b[90m║\u001b[0m\n",
      "\u001b[90m╚═════════════════════════════════════════════════════════════════╝\u001b[0m\n",
      "\n"
     ]
    },
    {
     "data": {
      "text/html": [
       "<pre style=\"white-space:pre;overflow-x:auto;line-height:normal;font-family:Menlo,'DejaVu Sans Mono',consolas,'Courier New',monospace\"><span style=\"color: #000000; text-decoration-color: #000000\">Auto-created MCPClient from task.mcp_config</span>\n",
       "</pre>\n"
      ],
      "text/plain": [
       "\u001b[39mAuto-created MCPClient from task.mcp_config\u001b[0m\n"
      ]
     },
     "metadata": {},
     "output_type": "display_data"
    },
    {
     "name": "stderr",
     "output_type": "stream",
     "text": [
      "11:55:50 - httpx - HTTP Request: POST https://telemetry.hud.so/v3/api/trace/58341e55-21c2-4cc4-aec2-2e8cfe7bb914/status \"HTTP/1.1 200 OK\"\n",
      "11:57:26 - httpx - HTTP Request: POST https://mcp.hud.so/v3/mcp \"HTTP/1.1 200 OK\"\n",
      "11:57:26 - mcp.client.streamable_http - Received session ID: ce073c4e-6a0c-410d-8af7-2ff57775c74f\n",
      "11:57:26 - mcp.client.streamable_http - Negotiated protocol version: 2025-06-18\n",
      "11:57:26 - httpx - HTTP Request: GET https://mcp.hud.so/v3/mcp \"HTTP/1.1 405 Method Not Allowed\"\n",
      "11:57:27 - httpx - HTTP Request: POST https://mcp.hud.so/v3/mcp \"HTTP/1.1 202 Accepted\"\n",
      "11:57:28 - httpx - HTTP Request: POST https://mcp.hud.so/v3/mcp \"HTTP/1.1 200 OK\"\n",
      "11:57:29 - httpx - HTTP Request: POST https://mcp.hud.so/v3/mcp \"HTTP/1.1 200 OK\"\n",
      "11:57:30 - httpx - HTTP Request: POST https://mcp.hud.so/v3/mcp \"HTTP/1.1 200 OK\"\n",
      "11:57:30 - hud.clients.mcp_use - Created 1 MCP sessions\n",
      "11:57:32 - httpx - HTTP Request: POST https://mcp.hud.so/v3/mcp \"HTTP/1.1 200 OK\"\n",
      "11:57:32 - hud.clients.mcp_use - Discovered 8 tools from 'osworld': ['setup', 'evaluate', 'python_script_tool', 'bash_script_tool', 'computer', 'anthropic_computer', 'openai_computer', 'response']\n",
      "11:57:33 - httpx - HTTP Request: POST https://mcp.hud.so/v3/mcp \"HTTP/1.1 200 OK\"\n",
      "11:57:33 - hud.clients.base - 📡 Telemetry data fetched:\n",
      "11:57:33 - hud.clients.base -    🖥️  Live URL: http://34.235.128.114:5910/vnc.html?password=LONxNveat6ERDesAUPNllQ\n",
      "11:57:33 - hud.clients.base -    📊 Status: ready\n",
      "11:57:33 - hud.clients.base - Client initialized\n"
     ]
    },
    {
     "data": {
      "text/html": [
       "<pre style=\"white-space:pre;overflow-x:auto;line-height:normal;font-family:Menlo,'DejaVu Sans Mono',consolas,'Courier New',monospace\"><span style=\"color: #008000; text-decoration-color: #008000\">✅ Agent initialized with </span><span style=\"color: #008000; text-decoration-color: #008000\">1</span><span style=\"color: #008000; text-decoration-color: #008000\"> available tools (after filtering)</span>\n",
       "</pre>\n"
      ],
      "text/plain": [
       "\u001b[32m✅ Agent initialized with \u001b[0m\u001b[32m1\u001b[0m\u001b[32m available tools \u001b[0m\u001b[32m(\u001b[0m\u001b[32mafter filtering\u001b[0m\u001b[32m)\u001b[0m\n"
      ]
     },
     "metadata": {},
     "output_type": "display_data"
    },
    {
     "data": {
      "text/html": [
       "<pre style=\"white-space:pre;overflow-x:auto;line-height:normal;font-family:Menlo,'DejaVu Sans Mono',consolas,'Courier New',monospace\"><span style=\"color: #7f7f7f; text-decoration-color: #7f7f7f\">Setting up tool phase: → </span><span style=\"color: #bf7fbf; text-decoration-color: #bf7fbf\">setup</span><span style=\"color: #7f7f7f; text-decoration-color: #7f7f7f\">({</span><span style=\"color: #7fbf7f; text-decoration-color: #7fbf7f\">\"task_config\"</span><span style=\"color: #7f7f7f; text-decoration-color: #7f7f7f\">:{</span><span style=\"color: #7fbf7f; text-decoration-color: #7fbf7f\">\"id\"</span><span style=\"color: #7f7f7f; text-decoration-color: #7f7f7f\">:\"937087b6-f668-4ba6-</span><span style=\"color: #7fbfbf; text-decoration-color: #7fbfbf\">9110</span><span style=\"color: #7f7f7f; text-decoration-color: #7f7f7f\">-60682ee3344</span><span style=\"color: #bfbf7f; text-decoration-color: #bfbf7f\">...</span><span style=\"color: #7f7f7f; text-decoration-color: #7f7f7f\">)</span>\n",
       "</pre>\n"
      ],
      "text/plain": [
       "\u001b[2mSetting up tool phase: → \u001b[0m\u001b[2;35msetup\u001b[0m\u001b[2m(\u001b[0m\u001b[2m{\u001b[0m\u001b[2;32m\"task_config\"\u001b[0m\u001b[2m:\u001b[0m\u001b[2m{\u001b[0m\u001b[2;32m\"id\"\u001b[0m\u001b[2m:\"937087b6-f668-4ba6-\u001b[0m\u001b[2;36m9110\u001b[0m\u001b[2m-60682ee3344\u001b[0m\u001b[2;33m...\u001b[0m\u001b[2m)\u001b[0m\n"
      ]
     },
     "metadata": {},
     "output_type": "display_data"
    },
    {
     "name": "stderr",
     "output_type": "stream",
     "text": [
      "11:57:56 - httpx - HTTP Request: POST https://mcp.hud.so/v3/mcp \"HTTP/1.1 200 OK\"\n",
      "11:57:59 - httpx - HTTP Request: POST https://mcp.hud.so/v3/mcp \"HTTP/1.1 200 OK\"\n",
      "11:58:09 - httpx - HTTP Request: POST https://api.openai.com/v1/chat/completions \"HTTP/1.1 200 OK\"\n",
      "11:58:13 - httpx - HTTP Request: POST https://openrouter.ai/api/v1/chat/completions \"HTTP/1.1 200 OK\"\n",
      "11:58:18 - httpx - HTTP Request: POST https://mcp.hud.so/v3/mcp \"HTTP/1.1 200 OK\"\n"
     ]
    },
    {
     "data": {
      "text/html": [
       "<pre style=\"white-space:pre;overflow-x:auto;line-height:normal;font-family:Menlo,'DejaVu Sans Mono',consolas,'Courier New',monospace\">\n",
       "<span style=\"color: #000000; text-decoration-color: #000000; font-weight: bold\">Step </span><span style=\"color: #000000; text-decoration-color: #000000; font-weight: bold\">1</span><span style=\"color: #000000; text-decoration-color: #000000; font-weight: bold\">/</span><span style=\"color: #000000; text-decoration-color: #000000; font-weight: bold\">15</span>\n",
       "<span style=\"color: #000000; text-decoration-color: #000000\">→ computer({</span><span style=\"color: #000000; text-decoration-color: #000000\">\"action\"</span><span style=\"color: #000000; text-decoration-color: #000000\">:</span><span style=\"color: #000000; text-decoration-color: #000000\">\"click\"</span><span style=\"color: #000000; text-decoration-color: #000000\">,</span><span style=\"color: #000000; text-decoration-color: #000000\">\"element_description\"</span><span style=\"color: #000000; text-decoration-color: #000000\">:\"Activities on th...)</span>\n",
       "<span style=\"color: #000000; text-decoration-color: #000000\">✓ Executed: pyautogui.click(</span><span style=\"color: #000000; text-decoration-color: #000000\">x</span><span style=\"color: #000000; text-decoration-color: #000000\">=</span><span style=\"color: #000000; text-decoration-color: #000000\">49</span><span style=\"color: #000000; text-decoration-color: #000000\">, </span><span style=\"color: #000000; text-decoration-color: #000000\">y</span><span style=\"color: #000000; text-decoration-color: #000000\">=</span><span style=\"color: #000000; text-decoration-color: #000000\">15</span><span style=\"color: #000000; text-decoration-color: #000000\">, </span><span style=\"color: #000000; text-decoration-color: #000000\">button</span><span style=\"color: #000000; text-decoration-color: #000000\">=</span><span style=\"color: #000000; text-decoration-color: #000000\">'left'</span><span style=\"color: #000000; text-decoration-color: #000000\">)</span>\n",
       "</pre>\n"
      ],
      "text/plain": [
       "\n",
       "\u001b[1;39mStep \u001b[0m\u001b[1;39m1\u001b[0m\u001b[1;39m/\u001b[0m\u001b[1;39m15\u001b[0m\n",
       "\u001b[39m→ \u001b[0m\u001b[39mcomputer\u001b[0m\u001b[39m(\u001b[0m\u001b[39m{\u001b[0m\u001b[39m\"action\"\u001b[0m\u001b[39m:\u001b[0m\u001b[39m\"click\"\u001b[0m\u001b[39m,\u001b[0m\u001b[39m\"element_description\"\u001b[0m\u001b[39m:\"Activities on th\u001b[0m\u001b[39m...\u001b[0m\u001b[39m)\u001b[0m\n",
       "\u001b[39m✓ Executed: \u001b[0m\u001b[39mpyautogui.click\u001b[0m\u001b[39m(\u001b[0m\u001b[39mx\u001b[0m\u001b[39m=\u001b[0m\u001b[39m49\u001b[0m\u001b[39m, \u001b[0m\u001b[39my\u001b[0m\u001b[39m=\u001b[0m\u001b[39m15\u001b[0m\u001b[39m, \u001b[0m\u001b[39mbutton\u001b[0m\u001b[39m=\u001b[0m\u001b[39m'left'\u001b[0m\u001b[39m)\u001b[0m\n"
      ]
     },
     "metadata": {},
     "output_type": "display_data"
    },
    {
     "name": "stderr",
     "output_type": "stream",
     "text": [
      "11:58:26 - httpx - HTTP Request: POST https://api.openai.com/v1/chat/completions \"HTTP/1.1 200 OK\"\n",
      "11:58:29 - httpx - HTTP Request: POST https://mcp.hud.so/v3/mcp \"HTTP/1.1 200 OK\"\n"
     ]
    },
    {
     "data": {
      "text/html": [
       "<pre style=\"white-space:pre;overflow-x:auto;line-height:normal;font-family:Menlo,'DejaVu Sans Mono',consolas,'Courier New',monospace\">\n",
       "<span style=\"color: #000000; text-decoration-color: #000000; font-weight: bold\">Step </span><span style=\"color: #000000; text-decoration-color: #000000; font-weight: bold\">2</span><span style=\"color: #000000; text-decoration-color: #000000; font-weight: bold\">/</span><span style=\"color: #000000; text-decoration-color: #000000; font-weight: bold\">15</span>\n",
       "<span style=\"color: #000000; text-decoration-color: #000000\">→ computer({</span><span style=\"color: #000000; text-decoration-color: #000000\">\"action\"</span><span style=\"color: #000000; text-decoration-color: #000000\">:</span><span style=\"color: #000000; text-decoration-color: #000000\">\"type\"</span><span style=\"color: #000000; text-decoration-color: #000000\">,</span><span style=\"color: #000000; text-decoration-color: #000000\">\"text\"</span><span style=\"color: #000000; text-decoration-color: #000000\">:</span><span style=\"color: #000000; text-decoration-color: #000000\">\"VLC\"</span><span style=\"color: #000000; text-decoration-color: #000000\">})</span>\n",
       "<span style=\"color: #000000; text-decoration-color: #000000\">✓ Executed: pyautogui.typewrite(</span><span style=\"color: #000000; text-decoration-color: #000000\">'VLC'</span><span style=\"color: #000000; text-decoration-color: #000000\">, </span><span style=\"color: #000000; text-decoration-color: #000000\">interval</span><span style=\"color: #000000; text-decoration-color: #000000\">=</span><span style=\"color: #000000; text-decoration-color: #000000\">0.012</span><span style=\"color: #000000; text-decoration-color: #000000\">)</span>\n",
       "</pre>\n"
      ],
      "text/plain": [
       "\n",
       "\u001b[1;39mStep \u001b[0m\u001b[1;39m2\u001b[0m\u001b[1;39m/\u001b[0m\u001b[1;39m15\u001b[0m\n",
       "\u001b[39m→ \u001b[0m\u001b[39mcomputer\u001b[0m\u001b[39m(\u001b[0m\u001b[39m{\u001b[0m\u001b[39m\"action\"\u001b[0m\u001b[39m:\u001b[0m\u001b[39m\"type\"\u001b[0m\u001b[39m,\u001b[0m\u001b[39m\"text\"\u001b[0m\u001b[39m:\u001b[0m\u001b[39m\"VLC\"\u001b[0m\u001b[39m}\u001b[0m\u001b[39m)\u001b[0m\n",
       "\u001b[39m✓ Executed: \u001b[0m\u001b[39mpyautogui.typewrite\u001b[0m\u001b[39m(\u001b[0m\u001b[39m'VLC'\u001b[0m\u001b[39m, \u001b[0m\u001b[39minterval\u001b[0m\u001b[39m=\u001b[0m\u001b[39m0\u001b[0m\u001b[39m.012\u001b[0m\u001b[39m)\u001b[0m\n"
      ]
     },
     "metadata": {},
     "output_type": "display_data"
    },
    {
     "name": "stderr",
     "output_type": "stream",
     "text": [
      "11:58:52 - httpx - HTTP Request: POST https://api.openai.com/v1/chat/completions \"HTTP/1.1 200 OK\"\n",
      "11:58:53 - httpx - HTTP Request: POST https://openrouter.ai/api/v1/chat/completions \"HTTP/1.1 200 OK\"\n",
      "11:58:58 - httpx - HTTP Request: POST https://mcp.hud.so/v3/mcp \"HTTP/1.1 200 OK\"\n"
     ]
    },
    {
     "data": {
      "text/html": [
       "<pre style=\"white-space:pre;overflow-x:auto;line-height:normal;font-family:Menlo,'DejaVu Sans Mono',consolas,'Courier New',monospace\">\n",
       "<span style=\"color: #000000; text-decoration-color: #000000; font-weight: bold\">Step </span><span style=\"color: #000000; text-decoration-color: #000000; font-weight: bold\">3</span><span style=\"color: #000000; text-decoration-color: #000000; font-weight: bold\">/</span><span style=\"color: #000000; text-decoration-color: #000000; font-weight: bold\">15</span>\n",
       "<span style=\"color: #000000; text-decoration-color: #000000\">→ computer({</span><span style=\"color: #000000; text-decoration-color: #000000\">\"action\"</span><span style=\"color: #000000; text-decoration-color: #000000\">:</span><span style=\"color: #000000; text-decoration-color: #000000\">\"click\"</span><span style=\"color: #000000; text-decoration-color: #000000\">,</span><span style=\"color: #000000; text-decoration-color: #000000\">\"element_description\"</span><span style=\"color: #000000; text-decoration-color: #000000\">:\"VLC media player...)</span>\n",
       "<span style=\"color: #000000; text-decoration-color: #000000\">✓ Executed: pyautogui.click(</span><span style=\"color: #000000; text-decoration-color: #000000\">x</span><span style=\"color: #000000; text-decoration-color: #000000\">=</span><span style=\"color: #000000; text-decoration-color: #000000\">1000</span><span style=\"color: #000000; text-decoration-color: #000000\">, </span><span style=\"color: #000000; text-decoration-color: #000000\">y</span><span style=\"color: #000000; text-decoration-color: #000000\">=</span><span style=\"color: #000000; text-decoration-color: #000000\">180</span><span style=\"color: #000000; text-decoration-color: #000000\">, </span><span style=\"color: #000000; text-decoration-color: #000000\">button</span><span style=\"color: #000000; text-decoration-color: #000000\">=</span><span style=\"color: #000000; text-decoration-color: #000000\">'left'</span><span style=\"color: #000000; text-decoration-color: #000000\">)</span>\n",
       "</pre>\n"
      ],
      "text/plain": [
       "\n",
       "\u001b[1;39mStep \u001b[0m\u001b[1;39m3\u001b[0m\u001b[1;39m/\u001b[0m\u001b[1;39m15\u001b[0m\n",
       "\u001b[39m→ \u001b[0m\u001b[39mcomputer\u001b[0m\u001b[39m(\u001b[0m\u001b[39m{\u001b[0m\u001b[39m\"action\"\u001b[0m\u001b[39m:\u001b[0m\u001b[39m\"click\"\u001b[0m\u001b[39m,\u001b[0m\u001b[39m\"element_description\"\u001b[0m\u001b[39m:\"VLC media player\u001b[0m\u001b[39m...\u001b[0m\u001b[39m)\u001b[0m\n",
       "\u001b[39m✓ Executed: \u001b[0m\u001b[39mpyautogui.click\u001b[0m\u001b[39m(\u001b[0m\u001b[39mx\u001b[0m\u001b[39m=\u001b[0m\u001b[39m1000\u001b[0m\u001b[39m, \u001b[0m\u001b[39my\u001b[0m\u001b[39m=\u001b[0m\u001b[39m180\u001b[0m\u001b[39m, \u001b[0m\u001b[39mbutton\u001b[0m\u001b[39m=\u001b[0m\u001b[39m'left'\u001b[0m\u001b[39m)\u001b[0m\n"
      ]
     },
     "metadata": {},
     "output_type": "display_data"
    },
    {
     "name": "stderr",
     "output_type": "stream",
     "text": [
      "11:59:14 - httpx - HTTP Request: POST https://api.openai.com/v1/chat/completions \"HTTP/1.1 200 OK\"\n",
      "11:59:16 - httpx - HTTP Request: POST https://openrouter.ai/api/v1/chat/completions \"HTTP/1.1 200 OK\"\n",
      "11:59:21 - httpx - HTTP Request: POST https://mcp.hud.so/v3/mcp \"HTTP/1.1 200 OK\"\n"
     ]
    },
    {
     "data": {
      "text/html": [
       "<pre style=\"white-space:pre;overflow-x:auto;line-height:normal;font-family:Menlo,'DejaVu Sans Mono',consolas,'Courier New',monospace\">\n",
       "<span style=\"color: #000000; text-decoration-color: #000000; font-weight: bold\">Step </span><span style=\"color: #000000; text-decoration-color: #000000; font-weight: bold\">4</span><span style=\"color: #000000; text-decoration-color: #000000; font-weight: bold\">/</span><span style=\"color: #000000; text-decoration-color: #000000; font-weight: bold\">15</span>\n",
       "<span style=\"color: #000000; text-decoration-color: #000000\">→ computer({</span><span style=\"color: #000000; text-decoration-color: #000000\">\"action\"</span><span style=\"color: #000000; text-decoration-color: #000000\">:</span><span style=\"color: #000000; text-decoration-color: #000000\">\"click\"</span><span style=\"color: #000000; text-decoration-color: #000000\">,</span><span style=\"color: #000000; text-decoration-color: #000000\">\"element_description\"</span><span style=\"color: #000000; text-decoration-color: #000000\">:\"VLC icon in the ...)</span>\n",
       "<span style=\"color: #000000; text-decoration-color: #000000\">✓ Executed: pyautogui.click(</span><span style=\"color: #000000; text-decoration-color: #000000\">x</span><span style=\"color: #000000; text-decoration-color: #000000\">=</span><span style=\"color: #000000; text-decoration-color: #000000\">40</span><span style=\"color: #000000; text-decoration-color: #000000\">, </span><span style=\"color: #000000; text-decoration-color: #000000\">y</span><span style=\"color: #000000; text-decoration-color: #000000\">=</span><span style=\"color: #000000; text-decoration-color: #000000\">829</span><span style=\"color: #000000; text-decoration-color: #000000\">, </span><span style=\"color: #000000; text-decoration-color: #000000\">button</span><span style=\"color: #000000; text-decoration-color: #000000\">=</span><span style=\"color: #000000; text-decoration-color: #000000\">'left'</span><span style=\"color: #000000; text-decoration-color: #000000\">)</span>\n",
       "</pre>\n"
      ],
      "text/plain": [
       "\n",
       "\u001b[1;39mStep \u001b[0m\u001b[1;39m4\u001b[0m\u001b[1;39m/\u001b[0m\u001b[1;39m15\u001b[0m\n",
       "\u001b[39m→ \u001b[0m\u001b[39mcomputer\u001b[0m\u001b[39m(\u001b[0m\u001b[39m{\u001b[0m\u001b[39m\"action\"\u001b[0m\u001b[39m:\u001b[0m\u001b[39m\"click\"\u001b[0m\u001b[39m,\u001b[0m\u001b[39m\"element_description\"\u001b[0m\u001b[39m:\"VLC icon in the \u001b[0m\u001b[39m...\u001b[0m\u001b[39m)\u001b[0m\n",
       "\u001b[39m✓ Executed: \u001b[0m\u001b[39mpyautogui.click\u001b[0m\u001b[39m(\u001b[0m\u001b[39mx\u001b[0m\u001b[39m=\u001b[0m\u001b[39m40\u001b[0m\u001b[39m, \u001b[0m\u001b[39my\u001b[0m\u001b[39m=\u001b[0m\u001b[39m829\u001b[0m\u001b[39m, \u001b[0m\u001b[39mbutton\u001b[0m\u001b[39m=\u001b[0m\u001b[39m'left'\u001b[0m\u001b[39m)\u001b[0m\n"
      ]
     },
     "metadata": {},
     "output_type": "display_data"
    },
    {
     "name": "stderr",
     "output_type": "stream",
     "text": [
      "11:59:46 - httpx - HTTP Request: POST https://api.openai.com/v1/chat/completions \"HTTP/1.1 200 OK\"\n",
      "11:59:48 - httpx - HTTP Request: POST https://openrouter.ai/api/v1/chat/completions \"HTTP/1.1 200 OK\"\n",
      "11:59:53 - httpx - HTTP Request: POST https://mcp.hud.so/v3/mcp \"HTTP/1.1 200 OK\"\n"
     ]
    },
    {
     "data": {
      "text/html": [
       "<pre style=\"white-space:pre;overflow-x:auto;line-height:normal;font-family:Menlo,'DejaVu Sans Mono',consolas,'Courier New',monospace\">\n",
       "<span style=\"color: #000000; text-decoration-color: #000000; font-weight: bold\">Step </span><span style=\"color: #000000; text-decoration-color: #000000; font-weight: bold\">5</span><span style=\"color: #000000; text-decoration-color: #000000; font-weight: bold\">/</span><span style=\"color: #000000; text-decoration-color: #000000; font-weight: bold\">15</span>\n",
       "<span style=\"color: #000000; text-decoration-color: #000000\">→ computer({</span><span style=\"color: #000000; text-decoration-color: #000000\">\"action\"</span><span style=\"color: #000000; text-decoration-color: #000000\">:</span><span style=\"color: #000000; text-decoration-color: #000000\">\"click\"</span><span style=\"color: #000000; text-decoration-color: #000000\">,</span><span style=\"color: #000000; text-decoration-color: #000000\">\"element_description\"</span><span style=\"color: #000000; text-decoration-color: #000000\">:\"Tools in the men...)</span>\n",
       "<span style=\"color: #000000; text-decoration-color: #000000\">✓ Executed: pyautogui.click(</span><span style=\"color: #000000; text-decoration-color: #000000\">x</span><span style=\"color: #000000; text-decoration-color: #000000\">=</span><span style=\"color: #000000; text-decoration-color: #000000\">1045</span><span style=\"color: #000000; text-decoration-color: #000000\">, </span><span style=\"color: #000000; text-decoration-color: #000000\">y</span><span style=\"color: #000000; text-decoration-color: #000000\">=</span><span style=\"color: #000000; text-decoration-color: #000000\">356</span><span style=\"color: #000000; text-decoration-color: #000000\">, </span><span style=\"color: #000000; text-decoration-color: #000000\">button</span><span style=\"color: #000000; text-decoration-color: #000000\">=</span><span style=\"color: #000000; text-decoration-color: #000000\">'left'</span><span style=\"color: #000000; text-decoration-color: #000000\">)</span>\n",
       "</pre>\n"
      ],
      "text/plain": [
       "\n",
       "\u001b[1;39mStep \u001b[0m\u001b[1;39m5\u001b[0m\u001b[1;39m/\u001b[0m\u001b[1;39m15\u001b[0m\n",
       "\u001b[39m→ \u001b[0m\u001b[39mcomputer\u001b[0m\u001b[39m(\u001b[0m\u001b[39m{\u001b[0m\u001b[39m\"action\"\u001b[0m\u001b[39m:\u001b[0m\u001b[39m\"click\"\u001b[0m\u001b[39m,\u001b[0m\u001b[39m\"element_description\"\u001b[0m\u001b[39m:\"Tools in the men\u001b[0m\u001b[39m...\u001b[0m\u001b[39m)\u001b[0m\n",
       "\u001b[39m✓ Executed: \u001b[0m\u001b[39mpyautogui.click\u001b[0m\u001b[39m(\u001b[0m\u001b[39mx\u001b[0m\u001b[39m=\u001b[0m\u001b[39m1045\u001b[0m\u001b[39m, \u001b[0m\u001b[39my\u001b[0m\u001b[39m=\u001b[0m\u001b[39m356\u001b[0m\u001b[39m, \u001b[0m\u001b[39mbutton\u001b[0m\u001b[39m=\u001b[0m\u001b[39m'left'\u001b[0m\u001b[39m)\u001b[0m\n"
      ]
     },
     "metadata": {},
     "output_type": "display_data"
    },
    {
     "name": "stderr",
     "output_type": "stream",
     "text": [
      "12:00:17 - httpx - HTTP Request: POST https://api.openai.com/v1/chat/completions \"HTTP/1.1 200 OK\"\n",
      "12:00:20 - httpx - HTTP Request: POST https://openrouter.ai/api/v1/chat/completions \"HTTP/1.1 200 OK\"\n",
      "12:00:25 - httpx - HTTP Request: POST https://mcp.hud.so/v3/mcp \"HTTP/1.1 200 OK\"\n"
     ]
    },
    {
     "data": {
      "text/html": [
       "<pre style=\"white-space:pre;overflow-x:auto;line-height:normal;font-family:Menlo,'DejaVu Sans Mono',consolas,'Courier New',monospace\">\n",
       "<span style=\"color: #000000; text-decoration-color: #000000; font-weight: bold\">Step </span><span style=\"color: #000000; text-decoration-color: #000000; font-weight: bold\">6</span><span style=\"color: #000000; text-decoration-color: #000000; font-weight: bold\">/</span><span style=\"color: #000000; text-decoration-color: #000000; font-weight: bold\">15</span>\n",
       "<span style=\"color: #000000; text-decoration-color: #000000\">→ computer({</span><span style=\"color: #000000; text-decoration-color: #000000\">\"action\"</span><span style=\"color: #000000; text-decoration-color: #000000\">:</span><span style=\"color: #000000; text-decoration-color: #000000\">\"click\"</span><span style=\"color: #000000; text-decoration-color: #000000\">,</span><span style=\"color: #000000; text-decoration-color: #000000\">\"element_description\"</span><span style=\"color: #000000; text-decoration-color: #000000\">:\"Preferences opti...)</span>\n",
       "<span style=\"color: #000000; text-decoration-color: #000000\">✓ Executed: pyautogui.click(</span><span style=\"color: #000000; text-decoration-color: #000000\">x</span><span style=\"color: #000000; text-decoration-color: #000000\">=</span><span style=\"color: #000000; text-decoration-color: #000000\">1048</span><span style=\"color: #000000; text-decoration-color: #000000\">, </span><span style=\"color: #000000; text-decoration-color: #000000\">y</span><span style=\"color: #000000; text-decoration-color: #000000\">=</span><span style=\"color: #000000; text-decoration-color: #000000\">609</span><span style=\"color: #000000; text-decoration-color: #000000\">, </span><span style=\"color: #000000; text-decoration-color: #000000\">button</span><span style=\"color: #000000; text-decoration-color: #000000\">=</span><span style=\"color: #000000; text-decoration-color: #000000\">'left'</span><span style=\"color: #000000; text-decoration-color: #000000\">)</span>\n",
       "</pre>\n"
      ],
      "text/plain": [
       "\n",
       "\u001b[1;39mStep \u001b[0m\u001b[1;39m6\u001b[0m\u001b[1;39m/\u001b[0m\u001b[1;39m15\u001b[0m\n",
       "\u001b[39m→ \u001b[0m\u001b[39mcomputer\u001b[0m\u001b[39m(\u001b[0m\u001b[39m{\u001b[0m\u001b[39m\"action\"\u001b[0m\u001b[39m:\u001b[0m\u001b[39m\"click\"\u001b[0m\u001b[39m,\u001b[0m\u001b[39m\"element_description\"\u001b[0m\u001b[39m:\"Preferences opti\u001b[0m\u001b[39m...\u001b[0m\u001b[39m)\u001b[0m\n",
       "\u001b[39m✓ Executed: \u001b[0m\u001b[39mpyautogui.click\u001b[0m\u001b[39m(\u001b[0m\u001b[39mx\u001b[0m\u001b[39m=\u001b[0m\u001b[39m1048\u001b[0m\u001b[39m, \u001b[0m\u001b[39my\u001b[0m\u001b[39m=\u001b[0m\u001b[39m609\u001b[0m\u001b[39m, \u001b[0m\u001b[39mbutton\u001b[0m\u001b[39m=\u001b[0m\u001b[39m'left'\u001b[0m\u001b[39m)\u001b[0m\n"
      ]
     },
     "metadata": {},
     "output_type": "display_data"
    },
    {
     "name": "stderr",
     "output_type": "stream",
     "text": [
      "12:00:43 - httpx - HTTP Request: POST https://api.openai.com/v1/chat/completions \"HTTP/1.1 200 OK\"\n",
      "12:00:46 - httpx - HTTP Request: POST https://openrouter.ai/api/v1/chat/completions \"HTTP/1.1 200 OK\"\n",
      "12:00:51 - httpx - HTTP Request: POST https://mcp.hud.so/v3/mcp \"HTTP/1.1 200 OK\"\n"
     ]
    },
    {
     "data": {
      "text/html": [
       "<pre style=\"white-space:pre;overflow-x:auto;line-height:normal;font-family:Menlo,'DejaVu Sans Mono',consolas,'Courier New',monospace\">\n",
       "<span style=\"color: #000000; text-decoration-color: #000000; font-weight: bold\">Step </span><span style=\"color: #000000; text-decoration-color: #000000; font-weight: bold\">7</span><span style=\"color: #000000; text-decoration-color: #000000; font-weight: bold\">/</span><span style=\"color: #000000; text-decoration-color: #000000; font-weight: bold\">15</span>\n",
       "<span style=\"color: #000000; text-decoration-color: #000000\">→ computer({</span><span style=\"color: #000000; text-decoration-color: #000000\">\"action\"</span><span style=\"color: #000000; text-decoration-color: #000000\">:</span><span style=\"color: #000000; text-decoration-color: #000000\">\"click\"</span><span style=\"color: #000000; text-decoration-color: #000000\">,</span><span style=\"color: #000000; text-decoration-color: #000000\">\"element_description\"</span><span style=\"color: #000000; text-decoration-color: #000000\">:\"Input/Codecs tab...)</span>\n",
       "<span style=\"color: #000000; text-decoration-color: #000000\">✓ Executed: pyautogui.click(</span><span style=\"color: #000000; text-decoration-color: #000000\">x</span><span style=\"color: #000000; text-decoration-color: #000000\">=</span><span style=\"color: #000000; text-decoration-color: #000000\">1053</span><span style=\"color: #000000; text-decoration-color: #000000\">, </span><span style=\"color: #000000; text-decoration-color: #000000\">y</span><span style=\"color: #000000; text-decoration-color: #000000\">=</span><span style=\"color: #000000; text-decoration-color: #000000\">248</span><span style=\"color: #000000; text-decoration-color: #000000\">, </span><span style=\"color: #000000; text-decoration-color: #000000\">button</span><span style=\"color: #000000; text-decoration-color: #000000\">=</span><span style=\"color: #000000; text-decoration-color: #000000\">'left'</span><span style=\"color: #000000; text-decoration-color: #000000\">)</span>\n",
       "</pre>\n"
      ],
      "text/plain": [
       "\n",
       "\u001b[1;39mStep \u001b[0m\u001b[1;39m7\u001b[0m\u001b[1;39m/\u001b[0m\u001b[1;39m15\u001b[0m\n",
       "\u001b[39m→ \u001b[0m\u001b[39mcomputer\u001b[0m\u001b[39m(\u001b[0m\u001b[39m{\u001b[0m\u001b[39m\"action\"\u001b[0m\u001b[39m:\u001b[0m\u001b[39m\"click\"\u001b[0m\u001b[39m,\u001b[0m\u001b[39m\"element_description\"\u001b[0m\u001b[39m:\"Input/Codecs tab\u001b[0m\u001b[39m...\u001b[0m\u001b[39m)\u001b[0m\n",
       "\u001b[39m✓ Executed: \u001b[0m\u001b[39mpyautogui.click\u001b[0m\u001b[39m(\u001b[0m\u001b[39mx\u001b[0m\u001b[39m=\u001b[0m\u001b[39m1053\u001b[0m\u001b[39m, \u001b[0m\u001b[39my\u001b[0m\u001b[39m=\u001b[0m\u001b[39m248\u001b[0m\u001b[39m, \u001b[0m\u001b[39mbutton\u001b[0m\u001b[39m=\u001b[0m\u001b[39m'left'\u001b[0m\u001b[39m)\u001b[0m\n"
      ]
     },
     "metadata": {},
     "output_type": "display_data"
    }
   ],
   "source": [
    "async def run_single_osworld_task(task_index: int = 1, max_steps: int = 15):\n",
    "    \"\"\"Run a single OSWorld task to test the grounded agent.\"\"\"\n",
    "    \n",
    "    print(\"📊 Loading OSWorld sample...\")\n",
    "    dataset = load_dataset(\"hud-evals/OSWorld-Verified\", split=\"train\")\n",
    "    \n",
    "    # Get a task from the dataset\n",
    "    sample_task = dataset[task_index]\n",
    "    task_prompt = sample_task.get(\"prompt\", f\"Task {sample_task.get('id', 0)}\")\n",
    "    \n",
    "    print(f\"\\n🎯 Task: {task_prompt}\")\n",
    "    print(f\"📝 Max steps: {max_steps}\")\n",
    "    \n",
    "    # Create task and agent\n",
    "    with hud.trace(name=task_prompt):\n",
    "        task = Task(**sample_task)\n",
    "        agent = create_grounded_agent()\n",
    "        agent.metadata = {}\n",
    "        \n",
    "        # Run the task\n",
    "        start_time = time.time()\n",
    "        result = await agent.run(task, max_steps=max_steps)\n",
    "        elapsed = time.time() - start_time\n",
    "        \n",
    "        print(f\"\\n✅ Task completed in {elapsed:.2f}s\")\n",
    "        print(f\"🏆 Reward: {result.reward}\")\n",
    "        print(f\"📊 Steps taken: {result.steps}\")\n",
    "        \n",
    "        return result\n",
    "\n",
    "# Run a single task\n",
    "result = await run_single_osworld_task(task_index=1, max_steps=15)"
   ]
  }
 ],
 "metadata": {
  "kernelspec": {
   "display_name": "hud-python",
   "language": "python",
   "name": "python3"
  },
  "language_info": {
   "codemirror_mode": {
    "name": "ipython",
    "version": 3
   },
   "file_extension": ".py",
   "mimetype": "text/x-python",
   "name": "python",
   "nbconvert_exporter": "python",
   "pygments_lexer": "ipython3",
   "version": "3.13.7"
  }
 },
 "nbformat": 4,
 "nbformat_minor": 4
}
